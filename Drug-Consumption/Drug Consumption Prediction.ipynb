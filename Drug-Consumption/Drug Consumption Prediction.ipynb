{
 "cells": [
  {
   "cell_type": "markdown",
   "id": "ae5fe982",
   "metadata": {
    "papermill": {
     "duration": 0.048115,
     "end_time": "2021-09-30T22:21:49.245812",
     "exception": false,
     "start_time": "2021-09-30T22:21:49.197697",
     "status": "completed"
    },
    "tags": []
   },
   "source": [
    "# Drug Consumption Prediction: Cocaine, Heroin, and Methamphetamines, Nicotine \n",
    "## Overview\n",
    "* Encode drug frequency feature as an ordinal feature\n",
    "* Perform feature engineering to create target labels for drugs of interest"
   ]
  },
  {
   "cell_type": "markdown",
   "id": "2ecd8b8e",
   "metadata": {
    "papermill": {
     "duration": 0.044593,
     "end_time": "2021-09-30T22:21:49.340141",
     "exception": false,
     "start_time": "2021-09-30T22:21:49.295548",
     "status": "completed"
    },
    "tags": []
   },
   "source": [
    "# Getting Started\n",
    "## Understanding the Dataset\n",
    "Database contains records for 1885 respondents. For each respondent 12 attributes are known: Personality measurements which include NEO-FFI-R (neuroticism, extraversion, openness to experience, agreeableness, and conscientiousness), BIS-11 (impulsivity), and ImpSS (sensation seeking), level of education, age, gender, country of residence and ethnicity. All input attributes are originally categorical and are quantified. After quantification values of all input features can be considered as real-valued. In addition, participants were questioned concerning their use of 18 legal and illegal drugs (alcohol, amphetamines, amyl nitrite, benzodiazepine, cannabis, chocolate, cocaine, caffeine, crack, ecstasy, heroin, ketamine, legal highs, LSD, methadone, mushrooms, nicotine and volatile substance abuse and one fictitious drug (Semeron) which was introduced to identify over-claimers. For each drug they have to select one of the answers: never used the drug, used it over a decade ago, or in the last decade, year, month, week, or day.\n",
    "\n",
    "| Feature     | Description                                                           |\n",
    "| ----------- | -----------------------------------                                   |\n",
    "| ID          | Identification                                                        |\n",
    "| Age         | Age range of participant                                              |\n",
    "| Gender      | Male or Female                                                        |\n",
    "| Education   | Level of education                                                    |\n",
    "| Country     | Country of orgin                                                      |\n",
    "| Ethnicity   | Ethnicity/Race of participant                                         |\n",
    "| Nscore      | Quantified NEO Five-Factor Inventory Neuroticism score                |\n",
    "| Escore      | Quantified NEO Five-Factor Inventory Extraversion score               |\n",
    "| Oscore      | Quantified NEO Five-Factor Inventory Openness to experience score     |\n",
    "| Ascore      | Quantified NEO Five-Factor Inventory Agreeableness score              |\n",
    "| Cscore      | Quantified NEO Five-Factor Inventory Conscientiousness score          |\n",
    "| Impulsive   | Quantified BIS-11 impulsiveness score                                 |\n",
    "| SS          | Quantified Impulsive Sensation Seeking score                          |\n",
    "| Drug        | Various drugs were examined and measured in terms of frequency of use |"
   ]
  },
  {
   "cell_type": "markdown",
   "id": "770189e7",
   "metadata": {
    "papermill": {
     "duration": 0.044994,
     "end_time": "2021-09-30T22:21:49.430106",
     "exception": false,
     "start_time": "2021-09-30T22:21:49.385112",
     "status": "completed"
    },
    "tags": []
   },
   "source": [
    "## Packages and Libaries"
   ]
  },
  {
   "cell_type": "code",
   "execution_count": 1,
   "id": "7fb624ee",
   "metadata": {
    "execution": {
     "iopub.execute_input": "2021-09-30T22:21:49.538090Z",
     "iopub.status.busy": "2021-09-30T22:21:49.532194Z",
     "iopub.status.idle": "2021-09-30T22:21:51.041776Z",
     "shell.execute_reply": "2021-09-30T22:21:51.042420Z",
     "shell.execute_reply.started": "2021-09-30T22:02:19.852658Z"
    },
    "papermill": {
     "duration": 1.566014,
     "end_time": "2021-09-30T22:21:51.042788",
     "exception": false,
     "start_time": "2021-09-30T22:21:49.476774",
     "status": "completed"
    },
    "tags": []
   },
   "outputs": [],
   "source": [
    "import numpy as np\n",
    "import pandas as pd\n",
    "import matplotlib.pyplot as plt\n",
    "import seaborn as sns\n",
    "\n",
    "from sklearn.model_selection import GridSearchCV, train_test_split\n",
    "from sklearn.preprocessing import StandardScaler\n",
    "\n",
    "from sklearn.linear_model import LogisticRegression, RidgeClassifier\n",
    "from sklearn.svm import SVC\n",
    "from sklearn.ensemble import RandomForestClassifier\n",
    "\n",
    "from sklearn.metrics import accuracy_score, confusion_matrix, f1_score\n",
    "\n",
    "pd.set_option('max_columns', None)"
   ]
  },
  {
   "cell_type": "markdown",
   "id": "93ee87ed",
   "metadata": {
    "papermill": {
     "duration": 0.046618,
     "end_time": "2021-09-30T22:21:51.137175",
     "exception": false,
     "start_time": "2021-09-30T22:21:51.090557",
     "status": "completed"
    },
    "tags": []
   },
   "source": [
    "## Load Data"
   ]
  },
  {
   "cell_type": "code",
   "execution_count": 2,
   "id": "0b1ca895",
   "metadata": {
    "execution": {
     "iopub.execute_input": "2021-09-30T22:21:51.234201Z",
     "iopub.status.busy": "2021-09-30T22:21:51.233562Z",
     "iopub.status.idle": "2021-09-30T22:21:51.323525Z",
     "shell.execute_reply": "2021-09-30T22:21:51.324054Z",
     "shell.execute_reply.started": "2021-09-30T22:02:19.865263Z"
    },
    "papermill": {
     "duration": 0.140876,
     "end_time": "2021-09-30T22:21:51.324264",
     "exception": false,
     "start_time": "2021-09-30T22:21:51.183388",
     "status": "completed"
    },
    "tags": []
   },
   "outputs": [
    {
     "data": {
      "text/html": [
       "<div>\n",
       "<style scoped>\n",
       "    .dataframe tbody tr th:only-of-type {\n",
       "        vertical-align: middle;\n",
       "    }\n",
       "\n",
       "    .dataframe tbody tr th {\n",
       "        vertical-align: top;\n",
       "    }\n",
       "\n",
       "    .dataframe thead th {\n",
       "        text-align: right;\n",
       "    }\n",
       "</style>\n",
       "<table border=\"1\" class=\"dataframe\">\n",
       "  <thead>\n",
       "    <tr style=\"text-align: right;\">\n",
       "      <th></th>\n",
       "      <th>Age</th>\n",
       "      <th>Gender</th>\n",
       "      <th>Education</th>\n",
       "      <th>Country</th>\n",
       "      <th>Ethnicity</th>\n",
       "      <th>Nscore</th>\n",
       "      <th>Escore</th>\n",
       "      <th>Oscore</th>\n",
       "      <th>AScore</th>\n",
       "      <th>Cscore</th>\n",
       "      <th>Impulsive</th>\n",
       "      <th>SS</th>\n",
       "      <th>Alcohol</th>\n",
       "      <th>Amphet</th>\n",
       "      <th>Amyl</th>\n",
       "      <th>Benzos</th>\n",
       "      <th>Caff</th>\n",
       "      <th>Cannabis</th>\n",
       "      <th>Choc</th>\n",
       "      <th>Coke</th>\n",
       "      <th>Crack</th>\n",
       "      <th>Ecstasy</th>\n",
       "      <th>Heroin</th>\n",
       "      <th>Ketamine</th>\n",
       "      <th>Legalh</th>\n",
       "      <th>LSD</th>\n",
       "      <th>Meth</th>\n",
       "      <th>Mushrooms</th>\n",
       "      <th>Nicotine</th>\n",
       "      <th>Semer</th>\n",
       "      <th>VSA</th>\n",
       "    </tr>\n",
       "  </thead>\n",
       "  <tbody>\n",
       "    <tr>\n",
       "      <th>0</th>\n",
       "      <td>-0.07854</td>\n",
       "      <td>-0.48246</td>\n",
       "      <td>1.98437</td>\n",
       "      <td>0.96082</td>\n",
       "      <td>-0.31685</td>\n",
       "      <td>-0.67825</td>\n",
       "      <td>1.93886</td>\n",
       "      <td>1.43533</td>\n",
       "      <td>0.76096</td>\n",
       "      <td>-0.14277</td>\n",
       "      <td>-0.71126</td>\n",
       "      <td>-0.21575</td>\n",
       "      <td>CL5</td>\n",
       "      <td>CL2</td>\n",
       "      <td>CL2</td>\n",
       "      <td>CL0</td>\n",
       "      <td>CL6</td>\n",
       "      <td>CL4</td>\n",
       "      <td>CL6</td>\n",
       "      <td>CL3</td>\n",
       "      <td>CL0</td>\n",
       "      <td>CL4</td>\n",
       "      <td>CL0</td>\n",
       "      <td>CL2</td>\n",
       "      <td>CL0</td>\n",
       "      <td>CL2</td>\n",
       "      <td>CL3</td>\n",
       "      <td>CL0</td>\n",
       "      <td>CL4</td>\n",
       "      <td>CL0</td>\n",
       "      <td>CL0</td>\n",
       "    </tr>\n",
       "    <tr>\n",
       "      <th>1</th>\n",
       "      <td>0.49788</td>\n",
       "      <td>-0.48246</td>\n",
       "      <td>-0.05921</td>\n",
       "      <td>0.96082</td>\n",
       "      <td>-0.31685</td>\n",
       "      <td>-0.46725</td>\n",
       "      <td>0.80523</td>\n",
       "      <td>-0.84732</td>\n",
       "      <td>-1.62090</td>\n",
       "      <td>-1.01450</td>\n",
       "      <td>-1.37983</td>\n",
       "      <td>0.40148</td>\n",
       "      <td>CL6</td>\n",
       "      <td>CL0</td>\n",
       "      <td>CL0</td>\n",
       "      <td>CL0</td>\n",
       "      <td>CL6</td>\n",
       "      <td>CL3</td>\n",
       "      <td>CL4</td>\n",
       "      <td>CL0</td>\n",
       "      <td>CL0</td>\n",
       "      <td>CL0</td>\n",
       "      <td>CL0</td>\n",
       "      <td>CL0</td>\n",
       "      <td>CL0</td>\n",
       "      <td>CL0</td>\n",
       "      <td>CL0</td>\n",
       "      <td>CL1</td>\n",
       "      <td>CL0</td>\n",
       "      <td>CL0</td>\n",
       "      <td>CL0</td>\n",
       "    </tr>\n",
       "    <tr>\n",
       "      <th>2</th>\n",
       "      <td>-0.95197</td>\n",
       "      <td>0.48246</td>\n",
       "      <td>1.16365</td>\n",
       "      <td>0.96082</td>\n",
       "      <td>-0.31685</td>\n",
       "      <td>-0.14882</td>\n",
       "      <td>-0.80615</td>\n",
       "      <td>-0.01928</td>\n",
       "      <td>0.59042</td>\n",
       "      <td>0.58489</td>\n",
       "      <td>-1.37983</td>\n",
       "      <td>-1.18084</td>\n",
       "      <td>CL4</td>\n",
       "      <td>CL0</td>\n",
       "      <td>CL0</td>\n",
       "      <td>CL3</td>\n",
       "      <td>CL5</td>\n",
       "      <td>CL2</td>\n",
       "      <td>CL4</td>\n",
       "      <td>CL2</td>\n",
       "      <td>CL0</td>\n",
       "      <td>CL0</td>\n",
       "      <td>CL0</td>\n",
       "      <td>CL2</td>\n",
       "      <td>CL0</td>\n",
       "      <td>CL0</td>\n",
       "      <td>CL0</td>\n",
       "      <td>CL0</td>\n",
       "      <td>CL2</td>\n",
       "      <td>CL0</td>\n",
       "      <td>CL0</td>\n",
       "    </tr>\n",
       "    <tr>\n",
       "      <th>3</th>\n",
       "      <td>0.49788</td>\n",
       "      <td>0.48246</td>\n",
       "      <td>1.98437</td>\n",
       "      <td>0.96082</td>\n",
       "      <td>-0.31685</td>\n",
       "      <td>0.73545</td>\n",
       "      <td>-1.63340</td>\n",
       "      <td>-0.45174</td>\n",
       "      <td>-0.30172</td>\n",
       "      <td>1.30612</td>\n",
       "      <td>-0.21712</td>\n",
       "      <td>-0.21575</td>\n",
       "      <td>CL4</td>\n",
       "      <td>CL1</td>\n",
       "      <td>CL1</td>\n",
       "      <td>CL0</td>\n",
       "      <td>CL6</td>\n",
       "      <td>CL3</td>\n",
       "      <td>CL6</td>\n",
       "      <td>CL0</td>\n",
       "      <td>CL0</td>\n",
       "      <td>CL1</td>\n",
       "      <td>CL0</td>\n",
       "      <td>CL0</td>\n",
       "      <td>CL1</td>\n",
       "      <td>CL0</td>\n",
       "      <td>CL0</td>\n",
       "      <td>CL2</td>\n",
       "      <td>CL2</td>\n",
       "      <td>CL0</td>\n",
       "      <td>CL0</td>\n",
       "    </tr>\n",
       "    <tr>\n",
       "      <th>4</th>\n",
       "      <td>2.59171</td>\n",
       "      <td>0.48246</td>\n",
       "      <td>-1.22751</td>\n",
       "      <td>0.24923</td>\n",
       "      <td>-0.31685</td>\n",
       "      <td>-0.67825</td>\n",
       "      <td>-0.30033</td>\n",
       "      <td>-1.55521</td>\n",
       "      <td>2.03972</td>\n",
       "      <td>1.63088</td>\n",
       "      <td>-1.37983</td>\n",
       "      <td>-1.54858</td>\n",
       "      <td>CL2</td>\n",
       "      <td>CL0</td>\n",
       "      <td>CL0</td>\n",
       "      <td>CL0</td>\n",
       "      <td>CL6</td>\n",
       "      <td>CL0</td>\n",
       "      <td>CL4</td>\n",
       "      <td>CL0</td>\n",
       "      <td>CL0</td>\n",
       "      <td>CL0</td>\n",
       "      <td>CL0</td>\n",
       "      <td>CL0</td>\n",
       "      <td>CL0</td>\n",
       "      <td>CL0</td>\n",
       "      <td>CL0</td>\n",
       "      <td>CL0</td>\n",
       "      <td>CL6</td>\n",
       "      <td>CL0</td>\n",
       "      <td>CL0</td>\n",
       "    </tr>\n",
       "  </tbody>\n",
       "</table>\n",
       "</div>"
      ],
      "text/plain": [
       "       Age   Gender  Education  Country  Ethnicity   Nscore   Escore   Oscore  \\\n",
       "0 -0.07854 -0.48246    1.98437  0.96082   -0.31685 -0.67825  1.93886  1.43533   \n",
       "1  0.49788 -0.48246   -0.05921  0.96082   -0.31685 -0.46725  0.80523 -0.84732   \n",
       "2 -0.95197  0.48246    1.16365  0.96082   -0.31685 -0.14882 -0.80615 -0.01928   \n",
       "3  0.49788  0.48246    1.98437  0.96082   -0.31685  0.73545 -1.63340 -0.45174   \n",
       "4  2.59171  0.48246   -1.22751  0.24923   -0.31685 -0.67825 -0.30033 -1.55521   \n",
       "\n",
       "    AScore   Cscore  Impulsive       SS Alcohol Amphet Amyl Benzos Caff  \\\n",
       "0  0.76096 -0.14277   -0.71126 -0.21575     CL5    CL2  CL2    CL0  CL6   \n",
       "1 -1.62090 -1.01450   -1.37983  0.40148     CL6    CL0  CL0    CL0  CL6   \n",
       "2  0.59042  0.58489   -1.37983 -1.18084     CL4    CL0  CL0    CL3  CL5   \n",
       "3 -0.30172  1.30612   -0.21712 -0.21575     CL4    CL1  CL1    CL0  CL6   \n",
       "4  2.03972  1.63088   -1.37983 -1.54858     CL2    CL0  CL0    CL0  CL6   \n",
       "\n",
       "  Cannabis Choc Coke Crack Ecstasy Heroin Ketamine Legalh  LSD Meth Mushrooms  \\\n",
       "0      CL4  CL6  CL3   CL0     CL4    CL0      CL2    CL0  CL2  CL3       CL0   \n",
       "1      CL3  CL4  CL0   CL0     CL0    CL0      CL0    CL0  CL0  CL0       CL1   \n",
       "2      CL2  CL4  CL2   CL0     CL0    CL0      CL2    CL0  CL0  CL0       CL0   \n",
       "3      CL3  CL6  CL0   CL0     CL1    CL0      CL0    CL1  CL0  CL0       CL2   \n",
       "4      CL0  CL4  CL0   CL0     CL0    CL0      CL0    CL0  CL0  CL0       CL0   \n",
       "\n",
       "  Nicotine Semer  VSA  \n",
       "0      CL4   CL0  CL0  \n",
       "1      CL0   CL0  CL0  \n",
       "2      CL2   CL0  CL0  \n",
       "3      CL2   CL0  CL0  \n",
       "4      CL6   CL0  CL0  "
      ]
     },
     "execution_count": 2,
     "metadata": {},
     "output_type": "execute_result"
    }
   ],
   "source": [
    "data = pd.read_csv('../input/drug-consumptions-uci/Drug_Consumption_Quantified.csv')\n",
    "data = data.drop('ID', axis=1)\n",
    "data.head()"
   ]
  },
  {
   "cell_type": "markdown",
   "id": "d69fb56a",
   "metadata": {
    "papermill": {
     "duration": 0.047376,
     "end_time": "2021-09-30T22:21:51.419207",
     "exception": false,
     "start_time": "2021-09-30T22:21:51.371831",
     "status": "completed"
    },
    "tags": []
   },
   "source": [
    "# Data Cleaning"
   ]
  },
  {
   "cell_type": "code",
   "execution_count": 3,
   "id": "c264e3a8",
   "metadata": {
    "execution": {
     "iopub.execute_input": "2021-09-30T22:21:51.518664Z",
     "iopub.status.busy": "2021-09-30T22:21:51.517933Z",
     "iopub.status.idle": "2021-09-30T22:21:51.530382Z",
     "shell.execute_reply": "2021-09-30T22:21:51.530942Z",
     "shell.execute_reply.started": "2021-09-30T22:02:19.929597Z"
    },
    "papermill": {
     "duration": 0.064547,
     "end_time": "2021-09-30T22:21:51.531192",
     "exception": false,
     "start_time": "2021-09-30T22:21:51.466645",
     "status": "completed"
    },
    "tags": []
   },
   "outputs": [
    {
     "data": {
      "text/plain": [
       "0"
      ]
     },
     "execution_count": 3,
     "metadata": {},
     "output_type": "execute_result"
    }
   ],
   "source": [
    "# Check for missing values\n",
    "data.isna().sum().sum()"
   ]
  },
  {
   "cell_type": "markdown",
   "id": "2cf85a40",
   "metadata": {
    "papermill": {
     "duration": 0.046842,
     "end_time": "2021-09-30T22:21:51.624839",
     "exception": false,
     "start_time": "2021-09-30T22:21:51.577997",
     "status": "completed"
    },
    "tags": []
   },
   "source": [
    "In the description of data, we are told that Semer is a fake drug that is used as a control. Since it is not a real drug those who claimed to have used Semer are assumed to be over claimers. We can not be sure these individuals have accurately recounted their drug use, therefore, we will remove these individuals from the data frame."
   ]
  },
  {
   "cell_type": "code",
   "execution_count": 4,
   "id": "1db82344",
   "metadata": {
    "execution": {
     "iopub.execute_input": "2021-09-30T22:21:51.726299Z",
     "iopub.status.busy": "2021-09-30T22:21:51.725346Z",
     "iopub.status.idle": "2021-09-30T22:21:51.728535Z",
     "shell.execute_reply": "2021-09-30T22:21:51.729049Z",
     "shell.execute_reply.started": "2021-09-30T22:02:19.948765Z"
    },
    "papermill": {
     "duration": 0.056732,
     "end_time": "2021-09-30T22:21:51.729256",
     "exception": false,
     "start_time": "2021-09-30T22:21:51.672524",
     "status": "completed"
    },
    "tags": []
   },
   "outputs": [
    {
     "name": "stdout",
     "output_type": "stream",
     "text": [
      "Original shape of data with 1884 rows and 31 columns\n"
     ]
    }
   ],
   "source": [
    "print(f'Original shape of data with {data.shape[0]} rows and {data.shape[1]} columns')"
   ]
  },
  {
   "cell_type": "code",
   "execution_count": 5,
   "id": "66d9a2c2",
   "metadata": {
    "execution": {
     "iopub.execute_input": "2021-09-30T22:21:51.861270Z",
     "iopub.status.busy": "2021-09-30T22:21:51.844116Z",
     "iopub.status.idle": "2021-09-30T22:21:51.877118Z",
     "shell.execute_reply": "2021-09-30T22:21:51.876546Z",
     "shell.execute_reply.started": "2021-09-30T22:02:19.962048Z"
    },
    "papermill": {
     "duration": 0.101786,
     "end_time": "2021-09-30T22:21:51.877295",
     "exception": false,
     "start_time": "2021-09-30T22:21:51.775509",
     "status": "completed"
    },
    "tags": []
   },
   "outputs": [
    {
     "data": {
      "text/html": [
       "<div>\n",
       "<style scoped>\n",
       "    .dataframe tbody tr th:only-of-type {\n",
       "        vertical-align: middle;\n",
       "    }\n",
       "\n",
       "    .dataframe tbody tr th {\n",
       "        vertical-align: top;\n",
       "    }\n",
       "\n",
       "    .dataframe thead th {\n",
       "        text-align: right;\n",
       "    }\n",
       "</style>\n",
       "<table border=\"1\" class=\"dataframe\">\n",
       "  <thead>\n",
       "    <tr style=\"text-align: right;\">\n",
       "      <th></th>\n",
       "      <th>Age</th>\n",
       "      <th>Gender</th>\n",
       "      <th>Education</th>\n",
       "      <th>Country</th>\n",
       "      <th>Ethnicity</th>\n",
       "      <th>Nscore</th>\n",
       "      <th>Escore</th>\n",
       "      <th>Oscore</th>\n",
       "      <th>AScore</th>\n",
       "      <th>Cscore</th>\n",
       "      <th>Impulsive</th>\n",
       "      <th>SS</th>\n",
       "      <th>Alcohol</th>\n",
       "      <th>Amphet</th>\n",
       "      <th>Amyl</th>\n",
       "      <th>Benzos</th>\n",
       "      <th>Caff</th>\n",
       "      <th>Cannabis</th>\n",
       "      <th>Choc</th>\n",
       "      <th>Coke</th>\n",
       "      <th>Crack</th>\n",
       "      <th>Ecstasy</th>\n",
       "      <th>Heroin</th>\n",
       "      <th>Ketamine</th>\n",
       "      <th>Legalh</th>\n",
       "      <th>LSD</th>\n",
       "      <th>Meth</th>\n",
       "      <th>Mushrooms</th>\n",
       "      <th>Nicotine</th>\n",
       "      <th>Semer</th>\n",
       "      <th>VSA</th>\n",
       "    </tr>\n",
       "  </thead>\n",
       "  <tbody>\n",
       "    <tr>\n",
       "      <th>726</th>\n",
       "      <td>-0.07854</td>\n",
       "      <td>0.48246</td>\n",
       "      <td>-1.73790</td>\n",
       "      <td>-0.09765</td>\n",
       "      <td>-0.31685</td>\n",
       "      <td>-0.58016</td>\n",
       "      <td>0.32197</td>\n",
       "      <td>0.14143</td>\n",
       "      <td>-0.60633</td>\n",
       "      <td>0.12331</td>\n",
       "      <td>1.29221</td>\n",
       "      <td>0.76540</td>\n",
       "      <td>CL6</td>\n",
       "      <td>CL2</td>\n",
       "      <td>CL2</td>\n",
       "      <td>CL2</td>\n",
       "      <td>CL6</td>\n",
       "      <td>CL6</td>\n",
       "      <td>CL5</td>\n",
       "      <td>CL2</td>\n",
       "      <td>CL2</td>\n",
       "      <td>CL2</td>\n",
       "      <td>CL2</td>\n",
       "      <td>CL2</td>\n",
       "      <td>CL0</td>\n",
       "      <td>CL4</td>\n",
       "      <td>CL2</td>\n",
       "      <td>CL6</td>\n",
       "      <td>CL6</td>\n",
       "      <td>CL2</td>\n",
       "      <td>CL2</td>\n",
       "    </tr>\n",
       "    <tr>\n",
       "      <th>816</th>\n",
       "      <td>-0.95197</td>\n",
       "      <td>-0.48246</td>\n",
       "      <td>-0.61113</td>\n",
       "      <td>-0.09765</td>\n",
       "      <td>-0.50212</td>\n",
       "      <td>-0.67825</td>\n",
       "      <td>1.74091</td>\n",
       "      <td>0.72330</td>\n",
       "      <td>0.13136</td>\n",
       "      <td>0.41594</td>\n",
       "      <td>0.88113</td>\n",
       "      <td>1.92173</td>\n",
       "      <td>CL3</td>\n",
       "      <td>CL0</td>\n",
       "      <td>CL0</td>\n",
       "      <td>CL0</td>\n",
       "      <td>CL6</td>\n",
       "      <td>CL4</td>\n",
       "      <td>CL5</td>\n",
       "      <td>CL0</td>\n",
       "      <td>CL0</td>\n",
       "      <td>CL3</td>\n",
       "      <td>CL0</td>\n",
       "      <td>CL0</td>\n",
       "      <td>CL0</td>\n",
       "      <td>CL5</td>\n",
       "      <td>CL0</td>\n",
       "      <td>CL5</td>\n",
       "      <td>CL4</td>\n",
       "      <td>CL3</td>\n",
       "      <td>CL0</td>\n",
       "    </tr>\n",
       "    <tr>\n",
       "      <th>1515</th>\n",
       "      <td>-0.95197</td>\n",
       "      <td>-0.48246</td>\n",
       "      <td>-0.61113</td>\n",
       "      <td>-0.57009</td>\n",
       "      <td>-0.31685</td>\n",
       "      <td>-0.24649</td>\n",
       "      <td>-0.80615</td>\n",
       "      <td>-1.27553</td>\n",
       "      <td>-1.34289</td>\n",
       "      <td>-1.92173</td>\n",
       "      <td>-0.71126</td>\n",
       "      <td>0.07987</td>\n",
       "      <td>CL0</td>\n",
       "      <td>CL2</td>\n",
       "      <td>CL3</td>\n",
       "      <td>CL2</td>\n",
       "      <td>CL3</td>\n",
       "      <td>CL4</td>\n",
       "      <td>CL1</td>\n",
       "      <td>CL3</td>\n",
       "      <td>CL2</td>\n",
       "      <td>CL1</td>\n",
       "      <td>CL2</td>\n",
       "      <td>CL1</td>\n",
       "      <td>CL2</td>\n",
       "      <td>CL1</td>\n",
       "      <td>CL2</td>\n",
       "      <td>CL4</td>\n",
       "      <td>CL2</td>\n",
       "      <td>CL3</td>\n",
       "      <td>CL1</td>\n",
       "    </tr>\n",
       "    <tr>\n",
       "      <th>1532</th>\n",
       "      <td>-0.95197</td>\n",
       "      <td>0.48246</td>\n",
       "      <td>-0.61113</td>\n",
       "      <td>-0.57009</td>\n",
       "      <td>0.11440</td>\n",
       "      <td>-0.46725</td>\n",
       "      <td>0.80523</td>\n",
       "      <td>0.29338</td>\n",
       "      <td>2.03972</td>\n",
       "      <td>1.81175</td>\n",
       "      <td>-1.37983</td>\n",
       "      <td>-0.21575</td>\n",
       "      <td>CL5</td>\n",
       "      <td>CL6</td>\n",
       "      <td>CL0</td>\n",
       "      <td>CL4</td>\n",
       "      <td>CL6</td>\n",
       "      <td>CL3</td>\n",
       "      <td>CL6</td>\n",
       "      <td>CL4</td>\n",
       "      <td>CL0</td>\n",
       "      <td>CL4</td>\n",
       "      <td>CL0</td>\n",
       "      <td>CL4</td>\n",
       "      <td>CL3</td>\n",
       "      <td>CL2</td>\n",
       "      <td>CL0</td>\n",
       "      <td>CL3</td>\n",
       "      <td>CL4</td>\n",
       "      <td>CL4</td>\n",
       "      <td>CL3</td>\n",
       "    </tr>\n",
       "    <tr>\n",
       "      <th>1697</th>\n",
       "      <td>0.49788</td>\n",
       "      <td>0.48246</td>\n",
       "      <td>0.45468</td>\n",
       "      <td>-0.57009</td>\n",
       "      <td>-0.31685</td>\n",
       "      <td>1.98437</td>\n",
       "      <td>-0.80615</td>\n",
       "      <td>2.15324</td>\n",
       "      <td>0.76096</td>\n",
       "      <td>-0.00665</td>\n",
       "      <td>1.29221</td>\n",
       "      <td>1.92173</td>\n",
       "      <td>CL6</td>\n",
       "      <td>CL0</td>\n",
       "      <td>CL0</td>\n",
       "      <td>CL3</td>\n",
       "      <td>CL5</td>\n",
       "      <td>CL6</td>\n",
       "      <td>CL4</td>\n",
       "      <td>CL2</td>\n",
       "      <td>CL0</td>\n",
       "      <td>CL2</td>\n",
       "      <td>CL0</td>\n",
       "      <td>CL2</td>\n",
       "      <td>CL2</td>\n",
       "      <td>CL2</td>\n",
       "      <td>CL0</td>\n",
       "      <td>CL2</td>\n",
       "      <td>CL6</td>\n",
       "      <td>CL2</td>\n",
       "      <td>CL0</td>\n",
       "    </tr>\n",
       "    <tr>\n",
       "      <th>1768</th>\n",
       "      <td>-0.95197</td>\n",
       "      <td>-0.48246</td>\n",
       "      <td>-1.22751</td>\n",
       "      <td>-0.57009</td>\n",
       "      <td>-0.22166</td>\n",
       "      <td>-0.34799</td>\n",
       "      <td>1.28610</td>\n",
       "      <td>1.06238</td>\n",
       "      <td>-0.01729</td>\n",
       "      <td>-0.52745</td>\n",
       "      <td>0.52975</td>\n",
       "      <td>1.22470</td>\n",
       "      <td>CL4</td>\n",
       "      <td>CL3</td>\n",
       "      <td>CL0</td>\n",
       "      <td>CL3</td>\n",
       "      <td>CL6</td>\n",
       "      <td>CL6</td>\n",
       "      <td>CL6</td>\n",
       "      <td>CL0</td>\n",
       "      <td>CL0</td>\n",
       "      <td>CL3</td>\n",
       "      <td>CL0</td>\n",
       "      <td>CL4</td>\n",
       "      <td>CL3</td>\n",
       "      <td>CL6</td>\n",
       "      <td>CL3</td>\n",
       "      <td>CL3</td>\n",
       "      <td>CL3</td>\n",
       "      <td>CL1</td>\n",
       "      <td>CL3</td>\n",
       "    </tr>\n",
       "    <tr>\n",
       "      <th>1805</th>\n",
       "      <td>-0.95197</td>\n",
       "      <td>0.48246</td>\n",
       "      <td>-1.43719</td>\n",
       "      <td>-0.57009</td>\n",
       "      <td>-0.31685</td>\n",
       "      <td>1.23461</td>\n",
       "      <td>1.11406</td>\n",
       "      <td>1.06238</td>\n",
       "      <td>-1.47955</td>\n",
       "      <td>0.12331</td>\n",
       "      <td>0.88113</td>\n",
       "      <td>1.92173</td>\n",
       "      <td>CL4</td>\n",
       "      <td>CL3</td>\n",
       "      <td>CL0</td>\n",
       "      <td>CL2</td>\n",
       "      <td>CL6</td>\n",
       "      <td>CL6</td>\n",
       "      <td>CL3</td>\n",
       "      <td>CL5</td>\n",
       "      <td>CL2</td>\n",
       "      <td>CL4</td>\n",
       "      <td>CL2</td>\n",
       "      <td>CL1</td>\n",
       "      <td>CL4</td>\n",
       "      <td>CL1</td>\n",
       "      <td>CL0</td>\n",
       "      <td>CL1</td>\n",
       "      <td>CL6</td>\n",
       "      <td>CL1</td>\n",
       "      <td>CL2</td>\n",
       "    </tr>\n",
       "    <tr>\n",
       "      <th>1822</th>\n",
       "      <td>-0.95197</td>\n",
       "      <td>0.48246</td>\n",
       "      <td>0.45468</td>\n",
       "      <td>-0.57009</td>\n",
       "      <td>-0.31685</td>\n",
       "      <td>0.22393</td>\n",
       "      <td>-0.30033</td>\n",
       "      <td>0.88309</td>\n",
       "      <td>1.28610</td>\n",
       "      <td>-0.00665</td>\n",
       "      <td>0.88113</td>\n",
       "      <td>0.07987</td>\n",
       "      <td>CL4</td>\n",
       "      <td>CL0</td>\n",
       "      <td>CL0</td>\n",
       "      <td>CL2</td>\n",
       "      <td>CL5</td>\n",
       "      <td>CL6</td>\n",
       "      <td>CL5</td>\n",
       "      <td>CL2</td>\n",
       "      <td>CL0</td>\n",
       "      <td>CL0</td>\n",
       "      <td>CL0</td>\n",
       "      <td>CL0</td>\n",
       "      <td>CL2</td>\n",
       "      <td>CL3</td>\n",
       "      <td>CL0</td>\n",
       "      <td>CL3</td>\n",
       "      <td>CL5</td>\n",
       "      <td>CL2</td>\n",
       "      <td>CL0</td>\n",
       "    </tr>\n",
       "  </tbody>\n",
       "</table>\n",
       "</div>"
      ],
      "text/plain": [
       "          Age   Gender  Education  Country  Ethnicity   Nscore   Escore  \\\n",
       "726  -0.07854  0.48246   -1.73790 -0.09765   -0.31685 -0.58016  0.32197   \n",
       "816  -0.95197 -0.48246   -0.61113 -0.09765   -0.50212 -0.67825  1.74091   \n",
       "1515 -0.95197 -0.48246   -0.61113 -0.57009   -0.31685 -0.24649 -0.80615   \n",
       "1532 -0.95197  0.48246   -0.61113 -0.57009    0.11440 -0.46725  0.80523   \n",
       "1697  0.49788  0.48246    0.45468 -0.57009   -0.31685  1.98437 -0.80615   \n",
       "1768 -0.95197 -0.48246   -1.22751 -0.57009   -0.22166 -0.34799  1.28610   \n",
       "1805 -0.95197  0.48246   -1.43719 -0.57009   -0.31685  1.23461  1.11406   \n",
       "1822 -0.95197  0.48246    0.45468 -0.57009   -0.31685  0.22393 -0.30033   \n",
       "\n",
       "       Oscore   AScore   Cscore  Impulsive       SS Alcohol Amphet Amyl  \\\n",
       "726   0.14143 -0.60633  0.12331    1.29221  0.76540     CL6    CL2  CL2   \n",
       "816   0.72330  0.13136  0.41594    0.88113  1.92173     CL3    CL0  CL0   \n",
       "1515 -1.27553 -1.34289 -1.92173   -0.71126  0.07987     CL0    CL2  CL3   \n",
       "1532  0.29338  2.03972  1.81175   -1.37983 -0.21575     CL5    CL6  CL0   \n",
       "1697  2.15324  0.76096 -0.00665    1.29221  1.92173     CL6    CL0  CL0   \n",
       "1768  1.06238 -0.01729 -0.52745    0.52975  1.22470     CL4    CL3  CL0   \n",
       "1805  1.06238 -1.47955  0.12331    0.88113  1.92173     CL4    CL3  CL0   \n",
       "1822  0.88309  1.28610 -0.00665    0.88113  0.07987     CL4    CL0  CL0   \n",
       "\n",
       "     Benzos Caff Cannabis Choc Coke Crack Ecstasy Heroin Ketamine Legalh  LSD  \\\n",
       "726     CL2  CL6      CL6  CL5  CL2   CL2     CL2    CL2      CL2    CL0  CL4   \n",
       "816     CL0  CL6      CL4  CL5  CL0   CL0     CL3    CL0      CL0    CL0  CL5   \n",
       "1515    CL2  CL3      CL4  CL1  CL3   CL2     CL1    CL2      CL1    CL2  CL1   \n",
       "1532    CL4  CL6      CL3  CL6  CL4   CL0     CL4    CL0      CL4    CL3  CL2   \n",
       "1697    CL3  CL5      CL6  CL4  CL2   CL0     CL2    CL0      CL2    CL2  CL2   \n",
       "1768    CL3  CL6      CL6  CL6  CL0   CL0     CL3    CL0      CL4    CL3  CL6   \n",
       "1805    CL2  CL6      CL6  CL3  CL5   CL2     CL4    CL2      CL1    CL4  CL1   \n",
       "1822    CL2  CL5      CL6  CL5  CL2   CL0     CL0    CL0      CL0    CL2  CL3   \n",
       "\n",
       "     Meth Mushrooms Nicotine Semer  VSA  \n",
       "726   CL2       CL6      CL6   CL2  CL2  \n",
       "816   CL0       CL5      CL4   CL3  CL0  \n",
       "1515  CL2       CL4      CL2   CL3  CL1  \n",
       "1532  CL0       CL3      CL4   CL4  CL3  \n",
       "1697  CL0       CL2      CL6   CL2  CL0  \n",
       "1768  CL3       CL3      CL3   CL1  CL3  \n",
       "1805  CL0       CL1      CL6   CL1  CL2  \n",
       "1822  CL0       CL3      CL5   CL2  CL0  "
      ]
     },
     "execution_count": 5,
     "metadata": {},
     "output_type": "execute_result"
    }
   ],
   "source": [
    "# Overclaimers\n",
    "data.query(\"Semer != 'CL0'\")"
   ]
  },
  {
   "cell_type": "code",
   "execution_count": 6,
   "id": "a9668980",
   "metadata": {
    "execution": {
     "iopub.execute_input": "2021-09-30T22:21:51.981830Z",
     "iopub.status.busy": "2021-09-30T22:21:51.981139Z",
     "iopub.status.idle": "2021-09-30T22:21:51.986632Z",
     "shell.execute_reply": "2021-09-30T22:21:51.987129Z",
     "shell.execute_reply.started": "2021-09-30T22:02:20.011434Z"
    },
    "papermill": {
     "duration": 0.06204,
     "end_time": "2021-09-30T22:21:51.987338",
     "exception": false,
     "start_time": "2021-09-30T22:21:51.925298",
     "status": "completed"
    },
    "tags": []
   },
   "outputs": [],
   "source": [
    "# We will drop overclaimers since, there answers might not truly be accurate\n",
    "data = data.drop(data[data['Semer'] != 'CL0'].index)\n",
    "\n",
    "# We will also drop unnecesary columns\n",
    "data = data.drop(['Choc','Semer'], axis=1)\n",
    "data = data.reset_index(drop=True)"
   ]
  },
  {
   "cell_type": "code",
   "execution_count": 7,
   "id": "00c1729d",
   "metadata": {
    "execution": {
     "iopub.execute_input": "2021-09-30T22:21:52.113603Z",
     "iopub.status.busy": "2021-09-30T22:21:52.112591Z",
     "iopub.status.idle": "2021-09-30T22:21:52.117525Z",
     "shell.execute_reply": "2021-09-30T22:21:52.116928Z",
     "shell.execute_reply.started": "2021-09-30T22:02:20.023100Z"
    },
    "papermill": {
     "duration": 0.083872,
     "end_time": "2021-09-30T22:21:52.117680",
     "exception": false,
     "start_time": "2021-09-30T22:21:52.033808",
     "status": "completed"
    },
    "tags": []
   },
   "outputs": [
    {
     "data": {
      "text/html": [
       "<div>\n",
       "<style scoped>\n",
       "    .dataframe tbody tr th:only-of-type {\n",
       "        vertical-align: middle;\n",
       "    }\n",
       "\n",
       "    .dataframe tbody tr th {\n",
       "        vertical-align: top;\n",
       "    }\n",
       "\n",
       "    .dataframe thead th {\n",
       "        text-align: right;\n",
       "    }\n",
       "</style>\n",
       "<table border=\"1\" class=\"dataframe\">\n",
       "  <thead>\n",
       "    <tr style=\"text-align: right;\">\n",
       "      <th></th>\n",
       "      <th>Age</th>\n",
       "      <th>Gender</th>\n",
       "      <th>Education</th>\n",
       "      <th>Country</th>\n",
       "      <th>Ethnicity</th>\n",
       "      <th>Nscore</th>\n",
       "      <th>Escore</th>\n",
       "      <th>Oscore</th>\n",
       "      <th>AScore</th>\n",
       "      <th>Cscore</th>\n",
       "      <th>Impulsive</th>\n",
       "      <th>SS</th>\n",
       "      <th>Alcohol</th>\n",
       "      <th>Amphet</th>\n",
       "      <th>Amyl</th>\n",
       "      <th>Benzos</th>\n",
       "      <th>Caff</th>\n",
       "      <th>Cannabis</th>\n",
       "      <th>Coke</th>\n",
       "      <th>Crack</th>\n",
       "      <th>Ecstasy</th>\n",
       "      <th>Heroin</th>\n",
       "      <th>Ketamine</th>\n",
       "      <th>Legalh</th>\n",
       "      <th>LSD</th>\n",
       "      <th>Meth</th>\n",
       "      <th>Mushrooms</th>\n",
       "      <th>Nicotine</th>\n",
       "      <th>VSA</th>\n",
       "    </tr>\n",
       "  </thead>\n",
       "  <tbody>\n",
       "    <tr>\n",
       "      <th>0</th>\n",
       "      <td>-0.07854</td>\n",
       "      <td>-0.48246</td>\n",
       "      <td>1.98437</td>\n",
       "      <td>0.96082</td>\n",
       "      <td>-0.31685</td>\n",
       "      <td>-0.67825</td>\n",
       "      <td>1.93886</td>\n",
       "      <td>1.43533</td>\n",
       "      <td>0.76096</td>\n",
       "      <td>-0.14277</td>\n",
       "      <td>-0.71126</td>\n",
       "      <td>-0.21575</td>\n",
       "      <td>CL5</td>\n",
       "      <td>CL2</td>\n",
       "      <td>CL2</td>\n",
       "      <td>CL0</td>\n",
       "      <td>CL6</td>\n",
       "      <td>CL4</td>\n",
       "      <td>CL3</td>\n",
       "      <td>CL0</td>\n",
       "      <td>CL4</td>\n",
       "      <td>CL0</td>\n",
       "      <td>CL2</td>\n",
       "      <td>CL0</td>\n",
       "      <td>CL2</td>\n",
       "      <td>CL3</td>\n",
       "      <td>CL0</td>\n",
       "      <td>CL4</td>\n",
       "      <td>CL0</td>\n",
       "    </tr>\n",
       "    <tr>\n",
       "      <th>1</th>\n",
       "      <td>0.49788</td>\n",
       "      <td>-0.48246</td>\n",
       "      <td>-0.05921</td>\n",
       "      <td>0.96082</td>\n",
       "      <td>-0.31685</td>\n",
       "      <td>-0.46725</td>\n",
       "      <td>0.80523</td>\n",
       "      <td>-0.84732</td>\n",
       "      <td>-1.62090</td>\n",
       "      <td>-1.01450</td>\n",
       "      <td>-1.37983</td>\n",
       "      <td>0.40148</td>\n",
       "      <td>CL6</td>\n",
       "      <td>CL0</td>\n",
       "      <td>CL0</td>\n",
       "      <td>CL0</td>\n",
       "      <td>CL6</td>\n",
       "      <td>CL3</td>\n",
       "      <td>CL0</td>\n",
       "      <td>CL0</td>\n",
       "      <td>CL0</td>\n",
       "      <td>CL0</td>\n",
       "      <td>CL0</td>\n",
       "      <td>CL0</td>\n",
       "      <td>CL0</td>\n",
       "      <td>CL0</td>\n",
       "      <td>CL1</td>\n",
       "      <td>CL0</td>\n",
       "      <td>CL0</td>\n",
       "    </tr>\n",
       "    <tr>\n",
       "      <th>2</th>\n",
       "      <td>-0.95197</td>\n",
       "      <td>0.48246</td>\n",
       "      <td>1.16365</td>\n",
       "      <td>0.96082</td>\n",
       "      <td>-0.31685</td>\n",
       "      <td>-0.14882</td>\n",
       "      <td>-0.80615</td>\n",
       "      <td>-0.01928</td>\n",
       "      <td>0.59042</td>\n",
       "      <td>0.58489</td>\n",
       "      <td>-1.37983</td>\n",
       "      <td>-1.18084</td>\n",
       "      <td>CL4</td>\n",
       "      <td>CL0</td>\n",
       "      <td>CL0</td>\n",
       "      <td>CL3</td>\n",
       "      <td>CL5</td>\n",
       "      <td>CL2</td>\n",
       "      <td>CL2</td>\n",
       "      <td>CL0</td>\n",
       "      <td>CL0</td>\n",
       "      <td>CL0</td>\n",
       "      <td>CL2</td>\n",
       "      <td>CL0</td>\n",
       "      <td>CL0</td>\n",
       "      <td>CL0</td>\n",
       "      <td>CL0</td>\n",
       "      <td>CL2</td>\n",
       "      <td>CL0</td>\n",
       "    </tr>\n",
       "    <tr>\n",
       "      <th>3</th>\n",
       "      <td>0.49788</td>\n",
       "      <td>0.48246</td>\n",
       "      <td>1.98437</td>\n",
       "      <td>0.96082</td>\n",
       "      <td>-0.31685</td>\n",
       "      <td>0.73545</td>\n",
       "      <td>-1.63340</td>\n",
       "      <td>-0.45174</td>\n",
       "      <td>-0.30172</td>\n",
       "      <td>1.30612</td>\n",
       "      <td>-0.21712</td>\n",
       "      <td>-0.21575</td>\n",
       "      <td>CL4</td>\n",
       "      <td>CL1</td>\n",
       "      <td>CL1</td>\n",
       "      <td>CL0</td>\n",
       "      <td>CL6</td>\n",
       "      <td>CL3</td>\n",
       "      <td>CL0</td>\n",
       "      <td>CL0</td>\n",
       "      <td>CL1</td>\n",
       "      <td>CL0</td>\n",
       "      <td>CL0</td>\n",
       "      <td>CL1</td>\n",
       "      <td>CL0</td>\n",
       "      <td>CL0</td>\n",
       "      <td>CL2</td>\n",
       "      <td>CL2</td>\n",
       "      <td>CL0</td>\n",
       "    </tr>\n",
       "    <tr>\n",
       "      <th>4</th>\n",
       "      <td>2.59171</td>\n",
       "      <td>0.48246</td>\n",
       "      <td>-1.22751</td>\n",
       "      <td>0.24923</td>\n",
       "      <td>-0.31685</td>\n",
       "      <td>-0.67825</td>\n",
       "      <td>-0.30033</td>\n",
       "      <td>-1.55521</td>\n",
       "      <td>2.03972</td>\n",
       "      <td>1.63088</td>\n",
       "      <td>-1.37983</td>\n",
       "      <td>-1.54858</td>\n",
       "      <td>CL2</td>\n",
       "      <td>CL0</td>\n",
       "      <td>CL0</td>\n",
       "      <td>CL0</td>\n",
       "      <td>CL6</td>\n",
       "      <td>CL0</td>\n",
       "      <td>CL0</td>\n",
       "      <td>CL0</td>\n",
       "      <td>CL0</td>\n",
       "      <td>CL0</td>\n",
       "      <td>CL0</td>\n",
       "      <td>CL0</td>\n",
       "      <td>CL0</td>\n",
       "      <td>CL0</td>\n",
       "      <td>CL0</td>\n",
       "      <td>CL6</td>\n",
       "      <td>CL0</td>\n",
       "    </tr>\n",
       "  </tbody>\n",
       "</table>\n",
       "</div>"
      ],
      "text/plain": [
       "       Age   Gender  Education  Country  Ethnicity   Nscore   Escore   Oscore  \\\n",
       "0 -0.07854 -0.48246    1.98437  0.96082   -0.31685 -0.67825  1.93886  1.43533   \n",
       "1  0.49788 -0.48246   -0.05921  0.96082   -0.31685 -0.46725  0.80523 -0.84732   \n",
       "2 -0.95197  0.48246    1.16365  0.96082   -0.31685 -0.14882 -0.80615 -0.01928   \n",
       "3  0.49788  0.48246    1.98437  0.96082   -0.31685  0.73545 -1.63340 -0.45174   \n",
       "4  2.59171  0.48246   -1.22751  0.24923   -0.31685 -0.67825 -0.30033 -1.55521   \n",
       "\n",
       "    AScore   Cscore  Impulsive       SS Alcohol Amphet Amyl Benzos Caff  \\\n",
       "0  0.76096 -0.14277   -0.71126 -0.21575     CL5    CL2  CL2    CL0  CL6   \n",
       "1 -1.62090 -1.01450   -1.37983  0.40148     CL6    CL0  CL0    CL0  CL6   \n",
       "2  0.59042  0.58489   -1.37983 -1.18084     CL4    CL0  CL0    CL3  CL5   \n",
       "3 -0.30172  1.30612   -0.21712 -0.21575     CL4    CL1  CL1    CL0  CL6   \n",
       "4  2.03972  1.63088   -1.37983 -1.54858     CL2    CL0  CL0    CL0  CL6   \n",
       "\n",
       "  Cannabis Coke Crack Ecstasy Heroin Ketamine Legalh  LSD Meth Mushrooms  \\\n",
       "0      CL4  CL3   CL0     CL4    CL0      CL2    CL0  CL2  CL3       CL0   \n",
       "1      CL3  CL0   CL0     CL0    CL0      CL0    CL0  CL0  CL0       CL1   \n",
       "2      CL2  CL2   CL0     CL0    CL0      CL2    CL0  CL0  CL0       CL0   \n",
       "3      CL3  CL0   CL0     CL1    CL0      CL0    CL1  CL0  CL0       CL2   \n",
       "4      CL0  CL0   CL0     CL0    CL0      CL0    CL0  CL0  CL0       CL0   \n",
       "\n",
       "  Nicotine  VSA  \n",
       "0      CL4  CL0  \n",
       "1      CL0  CL0  \n",
       "2      CL2  CL0  \n",
       "3      CL2  CL0  \n",
       "4      CL6  CL0  "
      ]
     },
     "execution_count": 7,
     "metadata": {},
     "output_type": "execute_result"
    }
   ],
   "source": [
    "data.head()"
   ]
  },
  {
   "cell_type": "markdown",
   "id": "7c563f94",
   "metadata": {
    "papermill": {
     "duration": 0.046524,
     "end_time": "2021-09-30T22:21:52.212887",
     "exception": false,
     "start_time": "2021-09-30T22:21:52.166363",
     "status": "completed"
    },
    "tags": []
   },
   "source": [
    "# Feature Encoding"
   ]
  },
  {
   "cell_type": "code",
   "execution_count": 8,
   "id": "f2520e7c",
   "metadata": {
    "execution": {
     "iopub.execute_input": "2021-09-30T22:21:52.315545Z",
     "iopub.status.busy": "2021-09-30T22:21:52.314811Z",
     "iopub.status.idle": "2021-09-30T22:21:52.317952Z",
     "shell.execute_reply": "2021-09-30T22:21:52.318494Z",
     "shell.execute_reply.started": "2021-09-30T22:02:20.061657Z"
    },
    "papermill": {
     "duration": 0.058952,
     "end_time": "2021-09-30T22:21:52.318699",
     "exception": false,
     "start_time": "2021-09-30T22:21:52.259747",
     "status": "completed"
    },
    "tags": []
   },
   "outputs": [],
   "source": [
    "drugs = ['Alcohol',\n",
    "         'Amyl',\n",
    "         'Amphet',\n",
    "         'Benzos',\n",
    "         'Caff',\n",
    "         'Cannabis',\n",
    "         'Coke',\n",
    "         'Crack',\n",
    "         'Ecstasy',\n",
    "         'Heroin',\n",
    "         'Ketamine',\n",
    "         'Legalh',\n",
    "         'LSD',\n",
    "         'Meth',\n",
    "         'Mushrooms',\n",
    "         'Nicotine',\n",
    "         'VSA'    ]"
   ]
  },
  {
   "cell_type": "code",
   "execution_count": 9,
   "id": "85240ed6",
   "metadata": {
    "execution": {
     "iopub.execute_input": "2021-09-30T22:21:52.425697Z",
     "iopub.status.busy": "2021-09-30T22:21:52.424867Z",
     "iopub.status.idle": "2021-09-30T22:21:52.427994Z",
     "shell.execute_reply": "2021-09-30T22:21:52.427426Z",
     "shell.execute_reply.started": "2021-09-30T22:02:20.073820Z"
    },
    "papermill": {
     "duration": 0.059763,
     "end_time": "2021-09-30T22:21:52.428207",
     "exception": false,
     "start_time": "2021-09-30T22:21:52.368444",
     "status": "completed"
    },
    "tags": []
   },
   "outputs": [],
   "source": [
    "def drug_encoder(x):\n",
    "    if x == 'CL0':\n",
    "        return 0\n",
    "    elif x == 'CL1':\n",
    "        return 1\n",
    "    elif x == 'CL2':\n",
    "        return 2\n",
    "    elif x == 'CL3':\n",
    "        return 3\n",
    "    elif x == 'CL4':\n",
    "        return 4\n",
    "    elif x == 'CL4':\n",
    "        return 5\n",
    "    elif x == 'CL5':\n",
    "        return 6\n",
    "    else:\n",
    "        return 7"
   ]
  },
  {
   "cell_type": "code",
   "execution_count": 10,
   "id": "daa87eed",
   "metadata": {
    "execution": {
     "iopub.execute_input": "2021-09-30T22:21:52.543005Z",
     "iopub.status.busy": "2021-09-30T22:21:52.536336Z",
     "iopub.status.idle": "2021-09-30T22:21:52.574570Z",
     "shell.execute_reply": "2021-09-30T22:21:52.575068Z",
     "shell.execute_reply.started": "2021-09-30T22:02:20.090574Z"
    },
    "papermill": {
     "duration": 0.096779,
     "end_time": "2021-09-30T22:21:52.575267",
     "exception": false,
     "start_time": "2021-09-30T22:21:52.478488",
     "status": "completed"
    },
    "tags": []
   },
   "outputs": [],
   "source": [
    "for column in drugs:\n",
    "    data[column] = data[column].apply(drug_encoder)"
   ]
  },
  {
   "cell_type": "code",
   "execution_count": 11,
   "id": "42baa74f",
   "metadata": {
    "execution": {
     "iopub.execute_input": "2021-09-30T22:21:52.684729Z",
     "iopub.status.busy": "2021-09-30T22:21:52.675934Z",
     "iopub.status.idle": "2021-09-30T22:21:52.703026Z",
     "shell.execute_reply": "2021-09-30T22:21:52.702455Z",
     "shell.execute_reply.started": "2021-09-30T22:02:20.136577Z"
    },
    "papermill": {
     "duration": 0.078481,
     "end_time": "2021-09-30T22:21:52.703174",
     "exception": false,
     "start_time": "2021-09-30T22:21:52.624693",
     "status": "completed"
    },
    "tags": []
   },
   "outputs": [
    {
     "data": {
      "text/html": [
       "<div>\n",
       "<style scoped>\n",
       "    .dataframe tbody tr th:only-of-type {\n",
       "        vertical-align: middle;\n",
       "    }\n",
       "\n",
       "    .dataframe tbody tr th {\n",
       "        vertical-align: top;\n",
       "    }\n",
       "\n",
       "    .dataframe thead th {\n",
       "        text-align: right;\n",
       "    }\n",
       "</style>\n",
       "<table border=\"1\" class=\"dataframe\">\n",
       "  <thead>\n",
       "    <tr style=\"text-align: right;\">\n",
       "      <th></th>\n",
       "      <th>Age</th>\n",
       "      <th>Gender</th>\n",
       "      <th>Education</th>\n",
       "      <th>Country</th>\n",
       "      <th>Ethnicity</th>\n",
       "      <th>Nscore</th>\n",
       "      <th>Escore</th>\n",
       "      <th>Oscore</th>\n",
       "      <th>AScore</th>\n",
       "      <th>Cscore</th>\n",
       "      <th>Impulsive</th>\n",
       "      <th>SS</th>\n",
       "      <th>Alcohol</th>\n",
       "      <th>Amphet</th>\n",
       "      <th>Amyl</th>\n",
       "      <th>Benzos</th>\n",
       "      <th>Caff</th>\n",
       "      <th>Cannabis</th>\n",
       "      <th>Coke</th>\n",
       "      <th>Crack</th>\n",
       "      <th>Ecstasy</th>\n",
       "      <th>Heroin</th>\n",
       "      <th>Ketamine</th>\n",
       "      <th>Legalh</th>\n",
       "      <th>LSD</th>\n",
       "      <th>Meth</th>\n",
       "      <th>Mushrooms</th>\n",
       "      <th>Nicotine</th>\n",
       "      <th>VSA</th>\n",
       "    </tr>\n",
       "  </thead>\n",
       "  <tbody>\n",
       "    <tr>\n",
       "      <th>0</th>\n",
       "      <td>-0.07854</td>\n",
       "      <td>-0.48246</td>\n",
       "      <td>1.98437</td>\n",
       "      <td>0.96082</td>\n",
       "      <td>-0.31685</td>\n",
       "      <td>-0.67825</td>\n",
       "      <td>1.93886</td>\n",
       "      <td>1.43533</td>\n",
       "      <td>0.76096</td>\n",
       "      <td>-0.14277</td>\n",
       "      <td>-0.71126</td>\n",
       "      <td>-0.21575</td>\n",
       "      <td>6</td>\n",
       "      <td>2</td>\n",
       "      <td>2</td>\n",
       "      <td>0</td>\n",
       "      <td>7</td>\n",
       "      <td>4</td>\n",
       "      <td>3</td>\n",
       "      <td>0</td>\n",
       "      <td>4</td>\n",
       "      <td>0</td>\n",
       "      <td>2</td>\n",
       "      <td>0</td>\n",
       "      <td>2</td>\n",
       "      <td>3</td>\n",
       "      <td>0</td>\n",
       "      <td>4</td>\n",
       "      <td>0</td>\n",
       "    </tr>\n",
       "    <tr>\n",
       "      <th>1</th>\n",
       "      <td>0.49788</td>\n",
       "      <td>-0.48246</td>\n",
       "      <td>-0.05921</td>\n",
       "      <td>0.96082</td>\n",
       "      <td>-0.31685</td>\n",
       "      <td>-0.46725</td>\n",
       "      <td>0.80523</td>\n",
       "      <td>-0.84732</td>\n",
       "      <td>-1.62090</td>\n",
       "      <td>-1.01450</td>\n",
       "      <td>-1.37983</td>\n",
       "      <td>0.40148</td>\n",
       "      <td>7</td>\n",
       "      <td>0</td>\n",
       "      <td>0</td>\n",
       "      <td>0</td>\n",
       "      <td>7</td>\n",
       "      <td>3</td>\n",
       "      <td>0</td>\n",
       "      <td>0</td>\n",
       "      <td>0</td>\n",
       "      <td>0</td>\n",
       "      <td>0</td>\n",
       "      <td>0</td>\n",
       "      <td>0</td>\n",
       "      <td>0</td>\n",
       "      <td>1</td>\n",
       "      <td>0</td>\n",
       "      <td>0</td>\n",
       "    </tr>\n",
       "    <tr>\n",
       "      <th>2</th>\n",
       "      <td>-0.95197</td>\n",
       "      <td>0.48246</td>\n",
       "      <td>1.16365</td>\n",
       "      <td>0.96082</td>\n",
       "      <td>-0.31685</td>\n",
       "      <td>-0.14882</td>\n",
       "      <td>-0.80615</td>\n",
       "      <td>-0.01928</td>\n",
       "      <td>0.59042</td>\n",
       "      <td>0.58489</td>\n",
       "      <td>-1.37983</td>\n",
       "      <td>-1.18084</td>\n",
       "      <td>4</td>\n",
       "      <td>0</td>\n",
       "      <td>0</td>\n",
       "      <td>3</td>\n",
       "      <td>6</td>\n",
       "      <td>2</td>\n",
       "      <td>2</td>\n",
       "      <td>0</td>\n",
       "      <td>0</td>\n",
       "      <td>0</td>\n",
       "      <td>2</td>\n",
       "      <td>0</td>\n",
       "      <td>0</td>\n",
       "      <td>0</td>\n",
       "      <td>0</td>\n",
       "      <td>2</td>\n",
       "      <td>0</td>\n",
       "    </tr>\n",
       "    <tr>\n",
       "      <th>3</th>\n",
       "      <td>0.49788</td>\n",
       "      <td>0.48246</td>\n",
       "      <td>1.98437</td>\n",
       "      <td>0.96082</td>\n",
       "      <td>-0.31685</td>\n",
       "      <td>0.73545</td>\n",
       "      <td>-1.63340</td>\n",
       "      <td>-0.45174</td>\n",
       "      <td>-0.30172</td>\n",
       "      <td>1.30612</td>\n",
       "      <td>-0.21712</td>\n",
       "      <td>-0.21575</td>\n",
       "      <td>4</td>\n",
       "      <td>1</td>\n",
       "      <td>1</td>\n",
       "      <td>0</td>\n",
       "      <td>7</td>\n",
       "      <td>3</td>\n",
       "      <td>0</td>\n",
       "      <td>0</td>\n",
       "      <td>1</td>\n",
       "      <td>0</td>\n",
       "      <td>0</td>\n",
       "      <td>1</td>\n",
       "      <td>0</td>\n",
       "      <td>0</td>\n",
       "      <td>2</td>\n",
       "      <td>2</td>\n",
       "      <td>0</td>\n",
       "    </tr>\n",
       "    <tr>\n",
       "      <th>4</th>\n",
       "      <td>2.59171</td>\n",
       "      <td>0.48246</td>\n",
       "      <td>-1.22751</td>\n",
       "      <td>0.24923</td>\n",
       "      <td>-0.31685</td>\n",
       "      <td>-0.67825</td>\n",
       "      <td>-0.30033</td>\n",
       "      <td>-1.55521</td>\n",
       "      <td>2.03972</td>\n",
       "      <td>1.63088</td>\n",
       "      <td>-1.37983</td>\n",
       "      <td>-1.54858</td>\n",
       "      <td>2</td>\n",
       "      <td>0</td>\n",
       "      <td>0</td>\n",
       "      <td>0</td>\n",
       "      <td>7</td>\n",
       "      <td>0</td>\n",
       "      <td>0</td>\n",
       "      <td>0</td>\n",
       "      <td>0</td>\n",
       "      <td>0</td>\n",
       "      <td>0</td>\n",
       "      <td>0</td>\n",
       "      <td>0</td>\n",
       "      <td>0</td>\n",
       "      <td>0</td>\n",
       "      <td>7</td>\n",
       "      <td>0</td>\n",
       "    </tr>\n",
       "  </tbody>\n",
       "</table>\n",
       "</div>"
      ],
      "text/plain": [
       "       Age   Gender  Education  Country  Ethnicity   Nscore   Escore   Oscore  \\\n",
       "0 -0.07854 -0.48246    1.98437  0.96082   -0.31685 -0.67825  1.93886  1.43533   \n",
       "1  0.49788 -0.48246   -0.05921  0.96082   -0.31685 -0.46725  0.80523 -0.84732   \n",
       "2 -0.95197  0.48246    1.16365  0.96082   -0.31685 -0.14882 -0.80615 -0.01928   \n",
       "3  0.49788  0.48246    1.98437  0.96082   -0.31685  0.73545 -1.63340 -0.45174   \n",
       "4  2.59171  0.48246   -1.22751  0.24923   -0.31685 -0.67825 -0.30033 -1.55521   \n",
       "\n",
       "    AScore   Cscore  Impulsive       SS  Alcohol  Amphet  Amyl  Benzos  Caff  \\\n",
       "0  0.76096 -0.14277   -0.71126 -0.21575        6       2     2       0     7   \n",
       "1 -1.62090 -1.01450   -1.37983  0.40148        7       0     0       0     7   \n",
       "2  0.59042  0.58489   -1.37983 -1.18084        4       0     0       3     6   \n",
       "3 -0.30172  1.30612   -0.21712 -0.21575        4       1     1       0     7   \n",
       "4  2.03972  1.63088   -1.37983 -1.54858        2       0     0       0     7   \n",
       "\n",
       "   Cannabis  Coke  Crack  Ecstasy  Heroin  Ketamine  Legalh  LSD  Meth  \\\n",
       "0         4     3      0        4       0         2       0    2     3   \n",
       "1         3     0      0        0       0         0       0    0     0   \n",
       "2         2     2      0        0       0         2       0    0     0   \n",
       "3         3     0      0        1       0         0       1    0     0   \n",
       "4         0     0      0        0       0         0       0    0     0   \n",
       "\n",
       "   Mushrooms  Nicotine  VSA  \n",
       "0          0         4    0  \n",
       "1          1         0    0  \n",
       "2          0         2    0  \n",
       "3          2         2    0  \n",
       "4          0         7    0  "
      ]
     },
     "execution_count": 11,
     "metadata": {},
     "output_type": "execute_result"
    }
   ],
   "source": [
    "data.head()"
   ]
  },
  {
   "cell_type": "code",
   "execution_count": 12,
   "id": "443cd8e0",
   "metadata": {
    "execution": {
     "iopub.execute_input": "2021-09-30T22:21:52.809253Z",
     "iopub.status.busy": "2021-09-30T22:21:52.808586Z",
     "iopub.status.idle": "2021-09-30T22:21:57.612129Z",
     "shell.execute_reply": "2021-09-30T22:21:57.612725Z",
     "shell.execute_reply.started": "2021-09-30T22:02:20.175360Z"
    },
    "papermill": {
     "duration": 4.862097,
     "end_time": "2021-09-30T22:21:57.612919",
     "exception": false,
     "start_time": "2021-09-30T22:21:52.750822",
     "status": "completed"
    },
    "tags": []
   },
   "outputs": [
    {
     "data": {
      "text/plain": [
       "<AxesSubplot:>"
      ]
     },
     "execution_count": 12,
     "metadata": {},
     "output_type": "execute_result"
    },
    {
     "data": {
      "image/png": "[encoded data removed]",
      "text/plain": [
       "<Figure size 1440x720 with 2 Axes>"
      ]
     },
     "metadata": {
      "needs_background": "light"
     },
     "output_type": "display_data"
    }
   ],
   "source": [
    "corr = data.corr()\n",
    "plt.figure(figsize=(20,10))\n",
    "sns.heatmap(corr, annot=True, vmin=-1)"
   ]
  },
  {
   "cell_type": "code",
   "execution_count": 13,
   "id": "bd684c3c",
   "metadata": {
    "execution": {
     "iopub.execute_input": "2021-09-30T22:21:57.734565Z",
     "iopub.status.busy": "2021-09-30T22:21:57.733882Z",
     "iopub.status.idle": "2021-09-30T22:21:57.762294Z",
     "shell.execute_reply": "2021-09-30T22:21:57.761734Z",
     "shell.execute_reply.started": "2021-09-30T22:02:24.325812Z"
    },
    "papermill": {
     "duration": 0.091258,
     "end_time": "2021-09-30T22:21:57.762453",
     "exception": false,
     "start_time": "2021-09-30T22:21:57.671195",
     "status": "completed"
    },
    "tags": []
   },
   "outputs": [
    {
     "data": {
      "text/html": [
       "<div>\n",
       "<style scoped>\n",
       "    .dataframe tbody tr th:only-of-type {\n",
       "        vertical-align: middle;\n",
       "    }\n",
       "\n",
       "    .dataframe tbody tr th {\n",
       "        vertical-align: top;\n",
       "    }\n",
       "\n",
       "    .dataframe thead th {\n",
       "        text-align: right;\n",
       "    }\n",
       "</style>\n",
       "<table border=\"1\" class=\"dataframe\">\n",
       "  <thead>\n",
       "    <tr style=\"text-align: right;\">\n",
       "      <th></th>\n",
       "      <th>Country</th>\n",
       "      <th>Ethnicity</th>\n",
       "      <th>Nscore</th>\n",
       "      <th>Escore</th>\n",
       "      <th>Oscore</th>\n",
       "      <th>Cscore</th>\n",
       "      <th>Impulsive</th>\n",
       "      <th>SS</th>\n",
       "      <th>Amphet</th>\n",
       "      <th>Amyl</th>\n",
       "      <th>Benzos</th>\n",
       "      <th>Cannabis</th>\n",
       "      <th>Coke</th>\n",
       "      <th>Crack</th>\n",
       "      <th>Ecstasy</th>\n",
       "      <th>Heroin</th>\n",
       "      <th>Ketamine</th>\n",
       "      <th>Legalh</th>\n",
       "      <th>LSD</th>\n",
       "      <th>Meth</th>\n",
       "      <th>Mushrooms</th>\n",
       "      <th>Nicotine</th>\n",
       "      <th>VSA</th>\n",
       "    </tr>\n",
       "  </thead>\n",
       "  <tbody>\n",
       "    <tr>\n",
       "      <th>0</th>\n",
       "      <td>0.96082</td>\n",
       "      <td>-0.31685</td>\n",
       "      <td>-0.67825</td>\n",
       "      <td>1.93886</td>\n",
       "      <td>1.43533</td>\n",
       "      <td>-0.14277</td>\n",
       "      <td>-0.71126</td>\n",
       "      <td>-0.21575</td>\n",
       "      <td>2</td>\n",
       "      <td>2</td>\n",
       "      <td>0</td>\n",
       "      <td>4</td>\n",
       "      <td>3</td>\n",
       "      <td>0</td>\n",
       "      <td>4</td>\n",
       "      <td>0</td>\n",
       "      <td>2</td>\n",
       "      <td>0</td>\n",
       "      <td>2</td>\n",
       "      <td>3</td>\n",
       "      <td>0</td>\n",
       "      <td>4</td>\n",
       "      <td>0</td>\n",
       "    </tr>\n",
       "    <tr>\n",
       "      <th>1</th>\n",
       "      <td>0.96082</td>\n",
       "      <td>-0.31685</td>\n",
       "      <td>-0.46725</td>\n",
       "      <td>0.80523</td>\n",
       "      <td>-0.84732</td>\n",
       "      <td>-1.01450</td>\n",
       "      <td>-1.37983</td>\n",
       "      <td>0.40148</td>\n",
       "      <td>0</td>\n",
       "      <td>0</td>\n",
       "      <td>0</td>\n",
       "      <td>3</td>\n",
       "      <td>0</td>\n",
       "      <td>0</td>\n",
       "      <td>0</td>\n",
       "      <td>0</td>\n",
       "      <td>0</td>\n",
       "      <td>0</td>\n",
       "      <td>0</td>\n",
       "      <td>0</td>\n",
       "      <td>1</td>\n",
       "      <td>0</td>\n",
       "      <td>0</td>\n",
       "    </tr>\n",
       "    <tr>\n",
       "      <th>2</th>\n",
       "      <td>0.96082</td>\n",
       "      <td>-0.31685</td>\n",
       "      <td>-0.14882</td>\n",
       "      <td>-0.80615</td>\n",
       "      <td>-0.01928</td>\n",
       "      <td>0.58489</td>\n",
       "      <td>-1.37983</td>\n",
       "      <td>-1.18084</td>\n",
       "      <td>0</td>\n",
       "      <td>0</td>\n",
       "      <td>3</td>\n",
       "      <td>2</td>\n",
       "      <td>2</td>\n",
       "      <td>0</td>\n",
       "      <td>0</td>\n",
       "      <td>0</td>\n",
       "      <td>2</td>\n",
       "      <td>0</td>\n",
       "      <td>0</td>\n",
       "      <td>0</td>\n",
       "      <td>0</td>\n",
       "      <td>2</td>\n",
       "      <td>0</td>\n",
       "    </tr>\n",
       "    <tr>\n",
       "      <th>3</th>\n",
       "      <td>0.96082</td>\n",
       "      <td>-0.31685</td>\n",
       "      <td>0.73545</td>\n",
       "      <td>-1.63340</td>\n",
       "      <td>-0.45174</td>\n",
       "      <td>1.30612</td>\n",
       "      <td>-0.21712</td>\n",
       "      <td>-0.21575</td>\n",
       "      <td>1</td>\n",
       "      <td>1</td>\n",
       "      <td>0</td>\n",
       "      <td>3</td>\n",
       "      <td>0</td>\n",
       "      <td>0</td>\n",
       "      <td>1</td>\n",
       "      <td>0</td>\n",
       "      <td>0</td>\n",
       "      <td>1</td>\n",
       "      <td>0</td>\n",
       "      <td>0</td>\n",
       "      <td>2</td>\n",
       "      <td>2</td>\n",
       "      <td>0</td>\n",
       "    </tr>\n",
       "    <tr>\n",
       "      <th>4</th>\n",
       "      <td>0.24923</td>\n",
       "      <td>-0.31685</td>\n",
       "      <td>-0.67825</td>\n",
       "      <td>-0.30033</td>\n",
       "      <td>-1.55521</td>\n",
       "      <td>1.63088</td>\n",
       "      <td>-1.37983</td>\n",
       "      <td>-1.54858</td>\n",
       "      <td>0</td>\n",
       "      <td>0</td>\n",
       "      <td>0</td>\n",
       "      <td>0</td>\n",
       "      <td>0</td>\n",
       "      <td>0</td>\n",
       "      <td>0</td>\n",
       "      <td>0</td>\n",
       "      <td>0</td>\n",
       "      <td>0</td>\n",
       "      <td>0</td>\n",
       "      <td>0</td>\n",
       "      <td>0</td>\n",
       "      <td>7</td>\n",
       "      <td>0</td>\n",
       "    </tr>\n",
       "  </tbody>\n",
       "</table>\n",
       "</div>"
      ],
      "text/plain": [
       "   Country  Ethnicity   Nscore   Escore   Oscore   Cscore  Impulsive       SS  \\\n",
       "0  0.96082   -0.31685 -0.67825  1.93886  1.43533 -0.14277   -0.71126 -0.21575   \n",
       "1  0.96082   -0.31685 -0.46725  0.80523 -0.84732 -1.01450   -1.37983  0.40148   \n",
       "2  0.96082   -0.31685 -0.14882 -0.80615 -0.01928  0.58489   -1.37983 -1.18084   \n",
       "3  0.96082   -0.31685  0.73545 -1.63340 -0.45174  1.30612   -0.21712 -0.21575   \n",
       "4  0.24923   -0.31685 -0.67825 -0.30033 -1.55521  1.63088   -1.37983 -1.54858   \n",
       "\n",
       "   Amphet  Amyl  Benzos  Cannabis  Coke  Crack  Ecstasy  Heroin  Ketamine  \\\n",
       "0       2     2       0         4     3      0        4       0         2   \n",
       "1       0     0       0         3     0      0        0       0         0   \n",
       "2       0     0       3         2     2      0        0       0         2   \n",
       "3       1     1       0         3     0      0        1       0         0   \n",
       "4       0     0       0         0     0      0        0       0         0   \n",
       "\n",
       "   Legalh  LSD  Meth  Mushrooms  Nicotine  VSA  \n",
       "0       0    2     3          0         4    0  \n",
       "1       0    0     0          1         0    0  \n",
       "2       0    0     0          0         2    0  \n",
       "3       1    0     0          2         2    0  \n",
       "4       0    0     0          0         7    0  "
      ]
     },
     "execution_count": 13,
     "metadata": {},
     "output_type": "execute_result"
    }
   ],
   "source": [
    "low_corr = ['Age', 'Gender', 'Education', 'Alcohol','AScore','Caff']\n",
    "for column in low_corr:\n",
    "    data = data.drop(column, axis=1)\n",
    "data.head()"
   ]
  },
  {
   "cell_type": "code",
   "execution_count": 14,
   "id": "95b21d09",
   "metadata": {
    "execution": {
     "iopub.execute_input": "2021-09-30T22:21:57.889466Z",
     "iopub.status.busy": "2021-09-30T22:21:57.888495Z",
     "iopub.status.idle": "2021-09-30T22:21:57.892304Z",
     "shell.execute_reply": "2021-09-30T22:21:57.892804Z",
     "shell.execute_reply.started": "2021-09-30T22:02:24.360039Z"
    },
    "papermill": {
     "duration": 0.070539,
     "end_time": "2021-09-30T22:21:57.893033",
     "exception": false,
     "start_time": "2021-09-30T22:21:57.822494",
     "status": "completed"
    },
    "tags": []
   },
   "outputs": [
    {
     "name": "stdout",
     "output_type": "stream",
     "text": [
      "In the new dataframe there are 1876 rows and 23 columns\n"
     ]
    }
   ],
   "source": [
    "print(f'In the new dataframe there are {data.shape[0]} rows and {data.shape[1]} columns')"
   ]
  },
  {
   "cell_type": "markdown",
   "id": "bc8759b1",
   "metadata": {
    "papermill": {
     "duration": 0.060159,
     "end_time": "2021-09-30T22:21:58.014862",
     "exception": false,
     "start_time": "2021-09-30T22:21:57.954703",
     "status": "completed"
    },
    "tags": []
   },
   "source": [
    "# Feature Engineering\n",
    "We will create three seperate datasets to asses predict whether an indivudal uses cocaine, methamphetamines, or heroin."
   ]
  },
  {
   "cell_type": "code",
   "execution_count": 15,
   "id": "3d1722fd",
   "metadata": {
    "execution": {
     "iopub.execute_input": "2021-09-30T22:21:58.155397Z",
     "iopub.status.busy": "2021-09-30T22:21:58.152853Z",
     "iopub.status.idle": "2021-09-30T22:21:58.160991Z",
     "shell.execute_reply": "2021-09-30T22:21:58.161540Z",
     "shell.execute_reply.started": "2021-09-30T22:02:24.368509Z"
    },
    "papermill": {
     "duration": 0.084764,
     "end_time": "2021-09-30T22:21:58.161750",
     "exception": false,
     "start_time": "2021-09-30T22:21:58.076986",
     "status": "completed"
    },
    "tags": []
   },
   "outputs": [],
   "source": [
    "# Combine cocaine and crack cocaine usage into one feature\n",
    "cocaine_df = data.copy()\n",
    "cocaine_df['coke_user'] = cocaine_df['Coke'].apply(lambda x: 0.5 if x not in [0,1] else 0)\n",
    "cocaine_df['crack_user'] = cocaine_df['Coke'].apply(lambda x: 0.5 if x not in [0,1] else 0)\n",
    "cocaine_df['both_user'] = cocaine_df[['coke_user', 'crack_user']].iloc[:].sum(axis=1)\n",
    "cocaine_df['Cocaine_User'] = cocaine_df['both_user'].apply(lambda x: 1 if x > 0 else 0)\n",
    "cocaine_df = cocaine_df.drop(['coke_user', 'crack_user', 'both_user' ], axis=1)"
   ]
  },
  {
   "cell_type": "code",
   "execution_count": 16,
   "id": "868fe298",
   "metadata": {
    "execution": {
     "iopub.execute_input": "2021-09-30T22:21:58.288800Z",
     "iopub.status.busy": "2021-09-30T22:21:58.288098Z",
     "iopub.status.idle": "2021-09-30T22:21:58.296632Z",
     "shell.execute_reply": "2021-09-30T22:21:58.297258Z",
     "shell.execute_reply.started": "2021-09-30T22:02:24.393162Z"
    },
    "papermill": {
     "duration": 0.074914,
     "end_time": "2021-09-30T22:21:58.297471",
     "exception": false,
     "start_time": "2021-09-30T22:21:58.222557",
     "status": "completed"
    },
    "tags": []
   },
   "outputs": [],
   "source": [
    "meth_df = data.copy()\n",
    "meth_df['Meth_User'] = meth_df['Meth'].apply(lambda x: 1 if x not in [0,1] else 0)\n",
    "meth_df = meth_df.drop(['Meth'], axis=1)"
   ]
  },
  {
   "cell_type": "code",
   "execution_count": 17,
   "id": "c84c1a4d",
   "metadata": {
    "execution": {
     "iopub.execute_input": "2021-09-30T22:21:58.424056Z",
     "iopub.status.busy": "2021-09-30T22:21:58.423365Z",
     "iopub.status.idle": "2021-09-30T22:21:58.431809Z",
     "shell.execute_reply": "2021-09-30T22:21:58.432328Z",
     "shell.execute_reply.started": "2021-09-30T22:02:24.405487Z"
    },
    "papermill": {
     "duration": 0.073785,
     "end_time": "2021-09-30T22:21:58.432553",
     "exception": false,
     "start_time": "2021-09-30T22:21:58.358768",
     "status": "completed"
    },
    "tags": []
   },
   "outputs": [],
   "source": [
    "heroin_df = data.copy()\n",
    "heroin_df['Heroin_User'] = heroin_df['Heroin'].apply(lambda x: 1 if x not in [0,1] else 0)\n",
    "heroin_df = heroin_df.drop(['Heroin'], axis=1)"
   ]
  },
  {
   "cell_type": "code",
   "execution_count": 18,
   "id": "91eab7f7",
   "metadata": {
    "execution": {
     "iopub.execute_input": "2021-09-30T22:21:58.560583Z",
     "iopub.status.busy": "2021-09-30T22:21:58.559859Z",
     "iopub.status.idle": "2021-09-30T22:21:58.571444Z",
     "shell.execute_reply": "2021-09-30T22:21:58.570731Z",
     "shell.execute_reply.started": "2021-09-30T22:02:24.428108Z"
    },
    "papermill": {
     "duration": 0.076203,
     "end_time": "2021-09-30T22:21:58.571605",
     "exception": false,
     "start_time": "2021-09-30T22:21:58.495402",
     "status": "completed"
    },
    "tags": []
   },
   "outputs": [],
   "source": [
    "nic_df = data.copy()\n",
    "nic_df['Nicotine_User'] = nic_df['Nicotine'].apply(lambda x: 1 if x not in [0,1] else 0)\n",
    "nic_df = nic_df.drop(['Nicotine'], axis=1)"
   ]
  },
  {
   "cell_type": "code",
   "execution_count": 19,
   "id": "bb74188f",
   "metadata": {
    "execution": {
     "iopub.execute_input": "2021-09-30T22:21:58.711564Z",
     "iopub.status.busy": "2021-09-30T22:21:58.704738Z",
     "iopub.status.idle": "2021-09-30T22:21:58.715911Z",
     "shell.execute_reply": "2021-09-30T22:21:58.716528Z",
     "shell.execute_reply.started": "2021-09-30T22:02:24.444261Z"
    },
    "papermill": {
     "duration": 0.08318,
     "end_time": "2021-09-30T22:21:58.716738",
     "exception": false,
     "start_time": "2021-09-30T22:21:58.633558",
     "status": "completed"
    },
    "tags": []
   },
   "outputs": [
    {
     "data": {
      "text/html": [
       "<div>\n",
       "<style scoped>\n",
       "    .dataframe tbody tr th:only-of-type {\n",
       "        vertical-align: middle;\n",
       "    }\n",
       "\n",
       "    .dataframe tbody tr th {\n",
       "        vertical-align: top;\n",
       "    }\n",
       "\n",
       "    .dataframe thead th {\n",
       "        text-align: right;\n",
       "    }\n",
       "</style>\n",
       "<table border=\"1\" class=\"dataframe\">\n",
       "  <thead>\n",
       "    <tr style=\"text-align: right;\">\n",
       "      <th></th>\n",
       "      <th>Country</th>\n",
       "      <th>Ethnicity</th>\n",
       "      <th>Nscore</th>\n",
       "      <th>Escore</th>\n",
       "      <th>Oscore</th>\n",
       "      <th>Cscore</th>\n",
       "      <th>Impulsive</th>\n",
       "      <th>SS</th>\n",
       "      <th>Amphet</th>\n",
       "      <th>Amyl</th>\n",
       "      <th>Benzos</th>\n",
       "      <th>Cannabis</th>\n",
       "      <th>Coke</th>\n",
       "      <th>Crack</th>\n",
       "      <th>Ecstasy</th>\n",
       "      <th>Heroin</th>\n",
       "      <th>Ketamine</th>\n",
       "      <th>Legalh</th>\n",
       "      <th>LSD</th>\n",
       "      <th>Meth</th>\n",
       "      <th>Mushrooms</th>\n",
       "      <th>Nicotine</th>\n",
       "      <th>VSA</th>\n",
       "      <th>Cocaine_User</th>\n",
       "    </tr>\n",
       "  </thead>\n",
       "  <tbody>\n",
       "    <tr>\n",
       "      <th>0</th>\n",
       "      <td>0.96082</td>\n",
       "      <td>-0.31685</td>\n",
       "      <td>-0.67825</td>\n",
       "      <td>1.93886</td>\n",
       "      <td>1.43533</td>\n",
       "      <td>-0.14277</td>\n",
       "      <td>-0.71126</td>\n",
       "      <td>-0.21575</td>\n",
       "      <td>2</td>\n",
       "      <td>2</td>\n",
       "      <td>0</td>\n",
       "      <td>4</td>\n",
       "      <td>3</td>\n",
       "      <td>0</td>\n",
       "      <td>4</td>\n",
       "      <td>0</td>\n",
       "      <td>2</td>\n",
       "      <td>0</td>\n",
       "      <td>2</td>\n",
       "      <td>3</td>\n",
       "      <td>0</td>\n",
       "      <td>4</td>\n",
       "      <td>0</td>\n",
       "      <td>1</td>\n",
       "    </tr>\n",
       "  </tbody>\n",
       "</table>\n",
       "</div>"
      ],
      "text/plain": [
       "   Country  Ethnicity   Nscore   Escore   Oscore   Cscore  Impulsive       SS  \\\n",
       "0  0.96082   -0.31685 -0.67825  1.93886  1.43533 -0.14277   -0.71126 -0.21575   \n",
       "\n",
       "   Amphet  Amyl  Benzos  Cannabis  Coke  Crack  Ecstasy  Heroin  Ketamine  \\\n",
       "0       2     2       0         4     3      0        4       0         2   \n",
       "\n",
       "   Legalh  LSD  Meth  Mushrooms  Nicotine  VSA  Cocaine_User  \n",
       "0       0    2     3          0         4    0             1  "
      ]
     },
     "execution_count": 19,
     "metadata": {},
     "output_type": "execute_result"
    }
   ],
   "source": [
    "cocaine_df.head(1)"
   ]
  },
  {
   "cell_type": "code",
   "execution_count": 20,
   "id": "467c00d3",
   "metadata": {
    "execution": {
     "iopub.execute_input": "2021-09-30T22:21:58.844616Z",
     "iopub.status.busy": "2021-09-30T22:21:58.843867Z",
     "iopub.status.idle": "2021-09-30T22:21:58.861224Z",
     "shell.execute_reply": "2021-09-30T22:21:58.861724Z",
     "shell.execute_reply.started": "2021-09-30T22:02:24.475405Z"
    },
    "papermill": {
     "duration": 0.082586,
     "end_time": "2021-09-30T22:21:58.861934",
     "exception": false,
     "start_time": "2021-09-30T22:21:58.779348",
     "status": "completed"
    },
    "tags": []
   },
   "outputs": [
    {
     "data": {
      "text/html": [
       "<div>\n",
       "<style scoped>\n",
       "    .dataframe tbody tr th:only-of-type {\n",
       "        vertical-align: middle;\n",
       "    }\n",
       "\n",
       "    .dataframe tbody tr th {\n",
       "        vertical-align: top;\n",
       "    }\n",
       "\n",
       "    .dataframe thead th {\n",
       "        text-align: right;\n",
       "    }\n",
       "</style>\n",
       "<table border=\"1\" class=\"dataframe\">\n",
       "  <thead>\n",
       "    <tr style=\"text-align: right;\">\n",
       "      <th></th>\n",
       "      <th>Country</th>\n",
       "      <th>Ethnicity</th>\n",
       "      <th>Nscore</th>\n",
       "      <th>Escore</th>\n",
       "      <th>Oscore</th>\n",
       "      <th>Cscore</th>\n",
       "      <th>Impulsive</th>\n",
       "      <th>SS</th>\n",
       "      <th>Amphet</th>\n",
       "      <th>Amyl</th>\n",
       "      <th>Benzos</th>\n",
       "      <th>Cannabis</th>\n",
       "      <th>Coke</th>\n",
       "      <th>Crack</th>\n",
       "      <th>Ecstasy</th>\n",
       "      <th>Heroin</th>\n",
       "      <th>Ketamine</th>\n",
       "      <th>Legalh</th>\n",
       "      <th>LSD</th>\n",
       "      <th>Mushrooms</th>\n",
       "      <th>Nicotine</th>\n",
       "      <th>VSA</th>\n",
       "      <th>Meth_User</th>\n",
       "    </tr>\n",
       "  </thead>\n",
       "  <tbody>\n",
       "    <tr>\n",
       "      <th>0</th>\n",
       "      <td>0.96082</td>\n",
       "      <td>-0.31685</td>\n",
       "      <td>-0.67825</td>\n",
       "      <td>1.93886</td>\n",
       "      <td>1.43533</td>\n",
       "      <td>-0.14277</td>\n",
       "      <td>-0.71126</td>\n",
       "      <td>-0.21575</td>\n",
       "      <td>2</td>\n",
       "      <td>2</td>\n",
       "      <td>0</td>\n",
       "      <td>4</td>\n",
       "      <td>3</td>\n",
       "      <td>0</td>\n",
       "      <td>4</td>\n",
       "      <td>0</td>\n",
       "      <td>2</td>\n",
       "      <td>0</td>\n",
       "      <td>2</td>\n",
       "      <td>0</td>\n",
       "      <td>4</td>\n",
       "      <td>0</td>\n",
       "      <td>1</td>\n",
       "    </tr>\n",
       "  </tbody>\n",
       "</table>\n",
       "</div>"
      ],
      "text/plain": [
       "   Country  Ethnicity   Nscore   Escore   Oscore   Cscore  Impulsive       SS  \\\n",
       "0  0.96082   -0.31685 -0.67825  1.93886  1.43533 -0.14277   -0.71126 -0.21575   \n",
       "\n",
       "   Amphet  Amyl  Benzos  Cannabis  Coke  Crack  Ecstasy  Heroin  Ketamine  \\\n",
       "0       2     2       0         4     3      0        4       0         2   \n",
       "\n",
       "   Legalh  LSD  Mushrooms  Nicotine  VSA  Meth_User  \n",
       "0       0    2          0         4    0          1  "
      ]
     },
     "execution_count": 20,
     "metadata": {},
     "output_type": "execute_result"
    }
   ],
   "source": [
    "meth_df.head(1)"
   ]
  },
  {
   "cell_type": "code",
   "execution_count": 21,
   "id": "94da7fc1",
   "metadata": {
    "execution": {
     "iopub.execute_input": "2021-09-30T22:21:58.990564Z",
     "iopub.status.busy": "2021-09-30T22:21:58.989860Z",
     "iopub.status.idle": "2021-09-30T22:21:59.006071Z",
     "shell.execute_reply": "2021-09-30T22:21:59.006611Z",
     "shell.execute_reply.started": "2021-09-30T22:02:24.503952Z"
    },
    "papermill": {
     "duration": 0.083073,
     "end_time": "2021-09-30T22:21:59.006825",
     "exception": false,
     "start_time": "2021-09-30T22:21:58.923752",
     "status": "completed"
    },
    "tags": []
   },
   "outputs": [
    {
     "data": {
      "text/html": [
       "<div>\n",
       "<style scoped>\n",
       "    .dataframe tbody tr th:only-of-type {\n",
       "        vertical-align: middle;\n",
       "    }\n",
       "\n",
       "    .dataframe tbody tr th {\n",
       "        vertical-align: top;\n",
       "    }\n",
       "\n",
       "    .dataframe thead th {\n",
       "        text-align: right;\n",
       "    }\n",
       "</style>\n",
       "<table border=\"1\" class=\"dataframe\">\n",
       "  <thead>\n",
       "    <tr style=\"text-align: right;\">\n",
       "      <th></th>\n",
       "      <th>Country</th>\n",
       "      <th>Ethnicity</th>\n",
       "      <th>Nscore</th>\n",
       "      <th>Escore</th>\n",
       "      <th>Oscore</th>\n",
       "      <th>Cscore</th>\n",
       "      <th>Impulsive</th>\n",
       "      <th>SS</th>\n",
       "      <th>Amphet</th>\n",
       "      <th>Amyl</th>\n",
       "      <th>Benzos</th>\n",
       "      <th>Cannabis</th>\n",
       "      <th>Coke</th>\n",
       "      <th>Crack</th>\n",
       "      <th>Ecstasy</th>\n",
       "      <th>Ketamine</th>\n",
       "      <th>Legalh</th>\n",
       "      <th>LSD</th>\n",
       "      <th>Meth</th>\n",
       "      <th>Mushrooms</th>\n",
       "      <th>Nicotine</th>\n",
       "      <th>VSA</th>\n",
       "      <th>Heroin_User</th>\n",
       "    </tr>\n",
       "  </thead>\n",
       "  <tbody>\n",
       "    <tr>\n",
       "      <th>0</th>\n",
       "      <td>0.96082</td>\n",
       "      <td>-0.31685</td>\n",
       "      <td>-0.67825</td>\n",
       "      <td>1.93886</td>\n",
       "      <td>1.43533</td>\n",
       "      <td>-0.14277</td>\n",
       "      <td>-0.71126</td>\n",
       "      <td>-0.21575</td>\n",
       "      <td>2</td>\n",
       "      <td>2</td>\n",
       "      <td>0</td>\n",
       "      <td>4</td>\n",
       "      <td>3</td>\n",
       "      <td>0</td>\n",
       "      <td>4</td>\n",
       "      <td>2</td>\n",
       "      <td>0</td>\n",
       "      <td>2</td>\n",
       "      <td>3</td>\n",
       "      <td>0</td>\n",
       "      <td>4</td>\n",
       "      <td>0</td>\n",
       "      <td>0</td>\n",
       "    </tr>\n",
       "  </tbody>\n",
       "</table>\n",
       "</div>"
      ],
      "text/plain": [
       "   Country  Ethnicity   Nscore   Escore   Oscore   Cscore  Impulsive       SS  \\\n",
       "0  0.96082   -0.31685 -0.67825  1.93886  1.43533 -0.14277   -0.71126 -0.21575   \n",
       "\n",
       "   Amphet  Amyl  Benzos  Cannabis  Coke  Crack  Ecstasy  Ketamine  Legalh  \\\n",
       "0       2     2       0         4     3      0        4         2       0   \n",
       "\n",
       "   LSD  Meth  Mushrooms  Nicotine  VSA  Heroin_User  \n",
       "0    2     3          0         4    0            0  "
      ]
     },
     "execution_count": 21,
     "metadata": {},
     "output_type": "execute_result"
    }
   ],
   "source": [
    "heroin_df.head(1)"
   ]
  },
  {
   "cell_type": "code",
   "execution_count": 22,
   "id": "8ec515dc",
   "metadata": {
    "execution": {
     "iopub.execute_input": "2021-09-30T22:21:59.135656Z",
     "iopub.status.busy": "2021-09-30T22:21:59.134944Z",
     "iopub.status.idle": "2021-09-30T22:21:59.151073Z",
     "shell.execute_reply": "2021-09-30T22:21:59.151648Z",
     "shell.execute_reply.started": "2021-09-30T22:02:24.531607Z"
    },
    "papermill": {
     "duration": 0.081961,
     "end_time": "2021-09-30T22:21:59.151837",
     "exception": false,
     "start_time": "2021-09-30T22:21:59.069876",
     "status": "completed"
    },
    "tags": []
   },
   "outputs": [
    {
     "data": {
      "text/html": [
       "<div>\n",
       "<style scoped>\n",
       "    .dataframe tbody tr th:only-of-type {\n",
       "        vertical-align: middle;\n",
       "    }\n",
       "\n",
       "    .dataframe tbody tr th {\n",
       "        vertical-align: top;\n",
       "    }\n",
       "\n",
       "    .dataframe thead th {\n",
       "        text-align: right;\n",
       "    }\n",
       "</style>\n",
       "<table border=\"1\" class=\"dataframe\">\n",
       "  <thead>\n",
       "    <tr style=\"text-align: right;\">\n",
       "      <th></th>\n",
       "      <th>Country</th>\n",
       "      <th>Ethnicity</th>\n",
       "      <th>Nscore</th>\n",
       "      <th>Escore</th>\n",
       "      <th>Oscore</th>\n",
       "      <th>Cscore</th>\n",
       "      <th>Impulsive</th>\n",
       "      <th>SS</th>\n",
       "      <th>Amphet</th>\n",
       "      <th>Amyl</th>\n",
       "      <th>Benzos</th>\n",
       "      <th>Cannabis</th>\n",
       "      <th>Coke</th>\n",
       "      <th>Crack</th>\n",
       "      <th>Ecstasy</th>\n",
       "      <th>Heroin</th>\n",
       "      <th>Ketamine</th>\n",
       "      <th>Legalh</th>\n",
       "      <th>LSD</th>\n",
       "      <th>Meth</th>\n",
       "      <th>Mushrooms</th>\n",
       "      <th>VSA</th>\n",
       "      <th>Nicotine_User</th>\n",
       "    </tr>\n",
       "  </thead>\n",
       "  <tbody>\n",
       "    <tr>\n",
       "      <th>0</th>\n",
       "      <td>0.96082</td>\n",
       "      <td>-0.31685</td>\n",
       "      <td>-0.67825</td>\n",
       "      <td>1.93886</td>\n",
       "      <td>1.43533</td>\n",
       "      <td>-0.14277</td>\n",
       "      <td>-0.71126</td>\n",
       "      <td>-0.21575</td>\n",
       "      <td>2</td>\n",
       "      <td>2</td>\n",
       "      <td>0</td>\n",
       "      <td>4</td>\n",
       "      <td>3</td>\n",
       "      <td>0</td>\n",
       "      <td>4</td>\n",
       "      <td>0</td>\n",
       "      <td>2</td>\n",
       "      <td>0</td>\n",
       "      <td>2</td>\n",
       "      <td>3</td>\n",
       "      <td>0</td>\n",
       "      <td>0</td>\n",
       "      <td>1</td>\n",
       "    </tr>\n",
       "  </tbody>\n",
       "</table>\n",
       "</div>"
      ],
      "text/plain": [
       "   Country  Ethnicity   Nscore   Escore   Oscore   Cscore  Impulsive       SS  \\\n",
       "0  0.96082   -0.31685 -0.67825  1.93886  1.43533 -0.14277   -0.71126 -0.21575   \n",
       "\n",
       "   Amphet  Amyl  Benzos  Cannabis  Coke  Crack  Ecstasy  Heroin  Ketamine  \\\n",
       "0       2     2       0         4     3      0        4       0         2   \n",
       "\n",
       "   Legalh  LSD  Meth  Mushrooms  VSA  Nicotine_User  \n",
       "0       0    2     3          0    0              1  "
      ]
     },
     "execution_count": 22,
     "metadata": {},
     "output_type": "execute_result"
    }
   ],
   "source": [
    "nic_df.head(1)"
   ]
  },
  {
   "cell_type": "markdown",
   "id": "6e203201",
   "metadata": {
    "papermill": {
     "duration": 0.062623,
     "end_time": "2021-09-30T22:21:59.276371",
     "exception": false,
     "start_time": "2021-09-30T22:21:59.213748",
     "status": "completed"
    },
    "tags": []
   },
   "source": [
    "# Data Preprocessing"
   ]
  },
  {
   "cell_type": "code",
   "execution_count": 23,
   "id": "38c86d8b",
   "metadata": {
    "execution": {
     "iopub.execute_input": "2021-09-30T22:21:59.406866Z",
     "iopub.status.busy": "2021-09-30T22:21:59.406150Z",
     "iopub.status.idle": "2021-09-30T22:21:59.412647Z",
     "shell.execute_reply": "2021-09-30T22:21:59.413172Z",
     "shell.execute_reply.started": "2021-09-30T22:02:24.561120Z"
    },
    "papermill": {
     "duration": 0.073552,
     "end_time": "2021-09-30T22:21:59.413385",
     "exception": false,
     "start_time": "2021-09-30T22:21:59.339833",
     "status": "completed"
    },
    "tags": []
   },
   "outputs": [],
   "source": [
    "def preprocessing_inputs(df, column):\n",
    "    df = df.copy()\n",
    "    \n",
    "    # Split df into X and y\n",
    "    y = df[column]\n",
    "    X = df.drop(column, axis=1)\n",
    "    \n",
    "    # Train-test split\n",
    "    X_train, X_test, y_train, y_test = train_test_split(X, y, test_size=0.2, random_state=1)\n",
    "    \n",
    "    # Scale X\n",
    "    scaler = StandardScaler()\n",
    "    scaler.fit(X_train)\n",
    "    \n",
    "    X_train = pd.DataFrame(scaler.transform(X_train), \n",
    "                           index=X_train.index, \n",
    "                           columns=X_train.columns)\n",
    "    X_test = pd.DataFrame(scaler.transform(X_test), \n",
    "                          index=X_test.index, \n",
    "                          columns=X_test.columns)\n",
    "    \n",
    "    return X_train, X_test, y_train, y_test\n",
    "    "
   ]
  },
  {
   "cell_type": "code",
   "execution_count": 24,
   "id": "54d013f6",
   "metadata": {
    "execution": {
     "iopub.execute_input": "2021-09-30T22:21:59.542480Z",
     "iopub.status.busy": "2021-09-30T22:21:59.541778Z",
     "iopub.status.idle": "2021-09-30T22:21:59.547354Z",
     "shell.execute_reply": "2021-09-30T22:21:59.547896Z",
     "shell.execute_reply.started": "2021-09-30T22:02:24.575215Z"
    },
    "papermill": {
     "duration": 0.072089,
     "end_time": "2021-09-30T22:21:59.548140",
     "exception": false,
     "start_time": "2021-09-30T22:21:59.476051",
     "status": "completed"
    },
    "tags": []
   },
   "outputs": [],
   "source": [
    "def plot_confusion_matrix(y,y_predict):\n",
    "    #Function to easily plot confusion matrix\n",
    "    cm = confusion_matrix(y, y_predict)\n",
    "    ax= plt.subplot()\n",
    "    sns.heatmap(cm, annot=True, ax = ax, fmt='g', cmap='Blues');\n",
    "    ax.set_xlabel('Predicted labels')\n",
    "    ax.set_ylabel('True labels')\n",
    "    ax.set_title('Confusion Matrix'); \n",
    "    ax.xaxis.set_ticklabels(['non-user', 'user']); ax.yaxis.set_ticklabels(['non-user', 'user'])"
   ]
  },
  {
   "cell_type": "markdown",
   "id": "12291146",
   "metadata": {
    "papermill": {
     "duration": 0.077399,
     "end_time": "2021-09-30T22:21:59.694524",
     "exception": false,
     "start_time": "2021-09-30T22:21:59.617125",
     "status": "completed"
    },
    "tags": []
   },
   "source": [
    "# Cocaine"
   ]
  },
  {
   "cell_type": "markdown",
   "id": "14a92826",
   "metadata": {
    "papermill": {
     "duration": 0.063632,
     "end_time": "2021-09-30T22:21:59.828011",
     "exception": false,
     "start_time": "2021-09-30T22:21:59.764379",
     "status": "completed"
    },
    "tags": []
   },
   "source": [
    "## Model Training"
   ]
  },
  {
   "cell_type": "code",
   "execution_count": 25,
   "id": "1872453f",
   "metadata": {
    "execution": {
     "iopub.execute_input": "2021-09-30T22:21:59.958774Z",
     "iopub.status.busy": "2021-09-30T22:21:59.958112Z",
     "iopub.status.idle": "2021-09-30T22:21:59.977137Z",
     "shell.execute_reply": "2021-09-30T22:21:59.977686Z",
     "shell.execute_reply.started": "2021-09-30T22:02:24.593067Z"
    },
    "papermill": {
     "duration": 0.085446,
     "end_time": "2021-09-30T22:21:59.977899",
     "exception": false,
     "start_time": "2021-09-30T22:21:59.892453",
     "status": "completed"
    },
    "tags": []
   },
   "outputs": [],
   "source": [
    "X_train, X_test, y_train, y_test = preprocessing_inputs(cocaine_df, 'Cocaine_User')"
   ]
  },
  {
   "cell_type": "code",
   "execution_count": 26,
   "id": "d7d5e587",
   "metadata": {
    "execution": {
     "iopub.execute_input": "2021-09-30T22:22:00.129798Z",
     "iopub.status.busy": "2021-09-30T22:22:00.126052Z",
     "iopub.status.idle": "2021-09-30T22:22:00.134594Z",
     "shell.execute_reply": "2021-09-30T22:22:00.134027Z",
     "shell.execute_reply.started": "2021-09-30T22:02:24.618303Z"
    },
    "papermill": {
     "duration": 0.093748,
     "end_time": "2021-09-30T22:22:00.134761",
     "exception": false,
     "start_time": "2021-09-30T22:22:00.041013",
     "status": "completed"
    },
    "tags": []
   },
   "outputs": [
    {
     "data": {
      "text/html": [
       "<div>\n",
       "<style scoped>\n",
       "    .dataframe tbody tr th:only-of-type {\n",
       "        vertical-align: middle;\n",
       "    }\n",
       "\n",
       "    .dataframe tbody tr th {\n",
       "        vertical-align: top;\n",
       "    }\n",
       "\n",
       "    .dataframe thead th {\n",
       "        text-align: right;\n",
       "    }\n",
       "</style>\n",
       "<table border=\"1\" class=\"dataframe\">\n",
       "  <thead>\n",
       "    <tr style=\"text-align: right;\">\n",
       "      <th></th>\n",
       "      <th>Country</th>\n",
       "      <th>Ethnicity</th>\n",
       "      <th>Nscore</th>\n",
       "      <th>Escore</th>\n",
       "      <th>Oscore</th>\n",
       "      <th>Cscore</th>\n",
       "      <th>Impulsive</th>\n",
       "      <th>SS</th>\n",
       "      <th>Amphet</th>\n",
       "      <th>Amyl</th>\n",
       "      <th>Benzos</th>\n",
       "      <th>Cannabis</th>\n",
       "      <th>Coke</th>\n",
       "      <th>Crack</th>\n",
       "      <th>Ecstasy</th>\n",
       "      <th>Heroin</th>\n",
       "      <th>Ketamine</th>\n",
       "      <th>Legalh</th>\n",
       "      <th>LSD</th>\n",
       "      <th>Meth</th>\n",
       "      <th>Mushrooms</th>\n",
       "      <th>Nicotine</th>\n",
       "      <th>VSA</th>\n",
       "    </tr>\n",
       "  </thead>\n",
       "  <tbody>\n",
       "    <tr>\n",
       "      <th>1604</th>\n",
       "      <td>0.866265</td>\n",
       "      <td>0.575283</td>\n",
       "      <td>0.125548</td>\n",
       "      <td>1.298214</td>\n",
       "      <td>-0.993606</td>\n",
       "      <td>-0.000636</td>\n",
       "      <td>-0.231800</td>\n",
       "      <td>-0.215230</td>\n",
       "      <td>-0.201117</td>\n",
       "      <td>0.330440</td>\n",
       "      <td>0.678958</td>\n",
       "      <td>-0.496131</td>\n",
       "      <td>-0.740193</td>\n",
       "      <td>-0.343283</td>\n",
       "      <td>-0.769730</td>\n",
       "      <td>-0.343207</td>\n",
       "      <td>-0.446023</td>\n",
       "      <td>-0.729376</td>\n",
       "      <td>-0.697845</td>\n",
       "      <td>-0.486933</td>\n",
       "      <td>-0.790515</td>\n",
       "      <td>-0.909071</td>\n",
       "      <td>0.549579</td>\n",
       "    </tr>\n",
       "    <tr>\n",
       "      <th>58</th>\n",
       "      <td>0.866265</td>\n",
       "      <td>-0.033985</td>\n",
       "      <td>-0.476068</td>\n",
       "      <td>-1.253935</td>\n",
       "      <td>-1.293555</td>\n",
       "      <td>-0.136881</td>\n",
       "      <td>-1.437385</td>\n",
       "      <td>-1.598342</td>\n",
       "      <td>-0.704747</td>\n",
       "      <td>-0.565871</td>\n",
       "      <td>-0.748757</td>\n",
       "      <td>-1.237733</td>\n",
       "      <td>-0.740193</td>\n",
       "      <td>-0.343283</td>\n",
       "      <td>-0.769730</td>\n",
       "      <td>-0.343207</td>\n",
       "      <td>-0.446023</td>\n",
       "      <td>-0.729376</td>\n",
       "      <td>-0.697845</td>\n",
       "      <td>-0.486933</td>\n",
       "      <td>-0.790515</td>\n",
       "      <td>-1.259072</td>\n",
       "      <td>-0.432982</td>\n",
       "    </tr>\n",
       "    <tr>\n",
       "      <th>1215</th>\n",
       "      <td>-1.323122</td>\n",
       "      <td>-0.033985</td>\n",
       "      <td>1.008192</td>\n",
       "      <td>0.970188</td>\n",
       "      <td>0.279177</td>\n",
       "      <td>-0.893717</td>\n",
       "      <td>0.906948</td>\n",
       "      <td>0.425285</td>\n",
       "      <td>0.806145</td>\n",
       "      <td>-0.565871</td>\n",
       "      <td>2.582579</td>\n",
       "      <td>0.987071</td>\n",
       "      <td>1.108235</td>\n",
       "      <td>-0.343283</td>\n",
       "      <td>0.925711</td>\n",
       "      <td>1.542547</td>\n",
       "      <td>-0.446023</td>\n",
       "      <td>0.807950</td>\n",
       "      <td>-0.697845</td>\n",
       "      <td>3.258704</td>\n",
       "      <td>0.528476</td>\n",
       "      <td>1.190939</td>\n",
       "      <td>1.532139</td>\n",
       "    </tr>\n",
       "    <tr>\n",
       "      <th>1361</th>\n",
       "      <td>-1.323122</td>\n",
       "      <td>-0.033985</td>\n",
       "      <td>0.213171</td>\n",
       "      <td>-1.791890</td>\n",
       "      <td>0.432018</td>\n",
       "      <td>-1.380275</td>\n",
       "      <td>-1.437385</td>\n",
       "      <td>-0.869641</td>\n",
       "      <td>-0.704747</td>\n",
       "      <td>-0.565871</td>\n",
       "      <td>-0.748757</td>\n",
       "      <td>0.245470</td>\n",
       "      <td>-0.740193</td>\n",
       "      <td>-0.343283</td>\n",
       "      <td>0.925711</td>\n",
       "      <td>-0.343207</td>\n",
       "      <td>1.898724</td>\n",
       "      <td>2.345275</td>\n",
       "      <td>1.187090</td>\n",
       "      <td>1.653431</td>\n",
       "      <td>1.187971</td>\n",
       "      <td>-0.559069</td>\n",
       "      <td>-0.432982</td>\n",
       "    </tr>\n",
       "    <tr>\n",
       "      <th>771</th>\n",
       "      <td>-1.323122</td>\n",
       "      <td>-0.033985</td>\n",
       "      <td>0.125548</td>\n",
       "      <td>-0.451375</td>\n",
       "      <td>-0.864302</td>\n",
       "      <td>-0.000636</td>\n",
       "      <td>-0.744161</td>\n",
       "      <td>-1.598342</td>\n",
       "      <td>2.820669</td>\n",
       "      <td>-0.565871</td>\n",
       "      <td>2.582579</td>\n",
       "      <td>0.987071</td>\n",
       "      <td>0.492093</td>\n",
       "      <td>1.935142</td>\n",
       "      <td>0.360564</td>\n",
       "      <td>2.485424</td>\n",
       "      <td>-0.446023</td>\n",
       "      <td>-0.729376</td>\n",
       "      <td>0.558778</td>\n",
       "      <td>3.258704</td>\n",
       "      <td>0.528476</td>\n",
       "      <td>1.190939</td>\n",
       "      <td>-0.432982</td>\n",
       "    </tr>\n",
       "  </tbody>\n",
       "</table>\n",
       "</div>"
      ],
      "text/plain": [
       "       Country  Ethnicity    Nscore    Escore    Oscore    Cscore  Impulsive  \\\n",
       "1604  0.866265   0.575283  0.125548  1.298214 -0.993606 -0.000636  -0.231800   \n",
       "58    0.866265  -0.033985 -0.476068 -1.253935 -1.293555 -0.136881  -1.437385   \n",
       "1215 -1.323122  -0.033985  1.008192  0.970188  0.279177 -0.893717   0.906948   \n",
       "1361 -1.323122  -0.033985  0.213171 -1.791890  0.432018 -1.380275  -1.437385   \n",
       "771  -1.323122  -0.033985  0.125548 -0.451375 -0.864302 -0.000636  -0.744161   \n",
       "\n",
       "            SS    Amphet      Amyl    Benzos  Cannabis      Coke     Crack  \\\n",
       "1604 -0.215230 -0.201117  0.330440  0.678958 -0.496131 -0.740193 -0.343283   \n",
       "58   -1.598342 -0.704747 -0.565871 -0.748757 -1.237733 -0.740193 -0.343283   \n",
       "1215  0.425285  0.806145 -0.565871  2.582579  0.987071  1.108235 -0.343283   \n",
       "1361 -0.869641 -0.704747 -0.565871 -0.748757  0.245470 -0.740193 -0.343283   \n",
       "771  -1.598342  2.820669 -0.565871  2.582579  0.987071  0.492093  1.935142   \n",
       "\n",
       "       Ecstasy    Heroin  Ketamine    Legalh       LSD      Meth  Mushrooms  \\\n",
       "1604 -0.769730 -0.343207 -0.446023 -0.729376 -0.697845 -0.486933  -0.790515   \n",
       "58   -0.769730 -0.343207 -0.446023 -0.729376 -0.697845 -0.486933  -0.790515   \n",
       "1215  0.925711  1.542547 -0.446023  0.807950 -0.697845  3.258704   0.528476   \n",
       "1361  0.925711 -0.343207  1.898724  2.345275  1.187090  1.653431   1.187971   \n",
       "771   0.360564  2.485424 -0.446023 -0.729376  0.558778  3.258704   0.528476   \n",
       "\n",
       "      Nicotine       VSA  \n",
       "1604 -0.909071  0.549579  \n",
       "58   -1.259072 -0.432982  \n",
       "1215  1.190939  1.532139  \n",
       "1361 -0.559069 -0.432982  \n",
       "771   1.190939 -0.432982  "
      ]
     },
     "execution_count": 26,
     "metadata": {},
     "output_type": "execute_result"
    }
   ],
   "source": [
    "X_train.head()"
   ]
  },
  {
   "cell_type": "code",
   "execution_count": 27,
   "id": "2e276a40",
   "metadata": {
    "execution": {
     "iopub.execute_input": "2021-09-30T22:22:00.267265Z",
     "iopub.status.busy": "2021-09-30T22:22:00.266380Z",
     "iopub.status.idle": "2021-09-30T22:22:00.270838Z",
     "shell.execute_reply": "2021-09-30T22:22:00.271324Z",
     "shell.execute_reply.started": "2021-09-30T22:02:24.647478Z"
    },
    "papermill": {
     "duration": 0.073893,
     "end_time": "2021-09-30T22:22:00.271529",
     "exception": false,
     "start_time": "2021-09-30T22:22:00.197636",
     "status": "completed"
    },
    "tags": []
   },
   "outputs": [
    {
     "name": "stdout",
     "output_type": "stream",
     "text": [
      "Train set: (1500, 23) (1500,)\n",
      "Test set: (376, 23) (376,)\n"
     ]
    }
   ],
   "source": [
    "print('Train set:', X_train.shape, y_train.shape)\n",
    "print('Test set:', X_test.shape, y_test.shape)"
   ]
  },
  {
   "cell_type": "code",
   "execution_count": 28,
   "id": "9d8dfe0b",
   "metadata": {
    "execution": {
     "iopub.execute_input": "2021-09-30T22:22:00.404595Z",
     "iopub.status.busy": "2021-09-30T22:22:00.403874Z",
     "iopub.status.idle": "2021-09-30T22:22:00.407362Z",
     "shell.execute_reply": "2021-09-30T22:22:00.406649Z",
     "shell.execute_reply.started": "2021-09-30T22:02:24.661868Z"
    },
    "papermill": {
     "duration": 0.072575,
     "end_time": "2021-09-30T22:22:00.407530",
     "exception": false,
     "start_time": "2021-09-30T22:22:00.334955",
     "status": "completed"
    },
    "tags": []
   },
   "outputs": [],
   "source": [
    "models = {\n",
    "            '     Logisitc Regression': LogisticRegression(),\n",
    "            '        Ridge Classifier': RidgeClassifier(),\n",
    "            ' Support Vector Machines': SVC(),\n",
    "            'Random Forest Classifier': RandomForestClassifier()}"
   ]
  },
  {
   "cell_type": "code",
   "execution_count": 29,
   "id": "51686c6e",
   "metadata": {
    "execution": {
     "iopub.execute_input": "2021-09-30T22:22:00.542873Z",
     "iopub.status.busy": "2021-09-30T22:22:00.542046Z",
     "iopub.status.idle": "2021-09-30T22:22:00.951347Z",
     "shell.execute_reply": "2021-09-30T22:22:00.950677Z",
     "shell.execute_reply.started": "2021-09-30T22:02:24.673149Z"
    },
    "papermill": {
     "duration": 0.479939,
     "end_time": "2021-09-30T22:22:00.951511",
     "exception": false,
     "start_time": "2021-09-30T22:22:00.471572",
     "status": "completed"
    },
    "tags": []
   },
   "outputs": [
    {
     "name": "stdout",
     "output_type": "stream",
     "text": [
      "     Logisitc Regression trained.\n",
      "        Ridge Classifier trained.\n",
      " Support Vector Machines trained.\n",
      "Random Forest Classifier trained.\n"
     ]
    }
   ],
   "source": [
    "for name, model in models.items():\n",
    "    model.fit(X_train, y_train)\n",
    "    print(name + ' trained.')"
   ]
  },
  {
   "cell_type": "markdown",
   "id": "254c9cc9",
   "metadata": {
    "papermill": {
     "duration": 0.066778,
     "end_time": "2021-09-30T22:22:01.083682",
     "exception": false,
     "start_time": "2021-09-30T22:22:01.016904",
     "status": "completed"
    },
    "tags": []
   },
   "source": [
    "## Model Results"
   ]
  },
  {
   "cell_type": "code",
   "execution_count": 30,
   "id": "cfac5520",
   "metadata": {
    "execution": {
     "iopub.execute_input": "2021-09-30T22:22:01.220845Z",
     "iopub.status.busy": "2021-09-30T22:22:01.216930Z",
     "iopub.status.idle": "2021-09-30T22:22:01.291547Z",
     "shell.execute_reply": "2021-09-30T22:22:01.292358Z",
     "shell.execute_reply.started": "2021-09-30T22:02:25.018724Z"
    },
    "papermill": {
     "duration": 0.14303,
     "end_time": "2021-09-30T22:22:01.292637",
     "exception": false,
     "start_time": "2021-09-30T22:22:01.149607",
     "status": "completed"
    },
    "tags": []
   },
   "outputs": [
    {
     "name": "stdout",
     "output_type": "stream",
     "text": [
      "                  ACCURACY\n",
      "     Logisitc Regression Accuracy: 100.00%\n",
      "        Ridge Classifier Accuracy: 99.20%\n",
      " Support Vector Machines Accuracy: 99.73%\n",
      "Random Forest Classifier Accuracy: 100.00%\n",
      "---------------------------------------------\n",
      "                  F1 SCORES\n",
      "     Logisitc Regression F1-Score: 1.0\n",
      "        Ridge Classifier F1-Score: 0.98885\n",
      " Support Vector Machines F1-Score: 0.99631\n",
      "Random Forest Classifier F1-Score: 1.0\n"
     ]
    }
   ],
   "source": [
    "print('                  ACCURACY')\n",
    "for name, model in models.items():\n",
    "    yhat = model.predict(X_test)\n",
    "    acc = accuracy_score(y_test, yhat)\n",
    "    \n",
    "    print(name + ' Accuracy: {:.2%}'.format(acc))\n",
    "print('---------------------------------------------')\n",
    "print('                  F1 SCORES')\n",
    "for name, model in models.items():\n",
    "    yhat = model.predict(X_test)\n",
    "    f1 = f1_score(y_test, yhat, pos_label=1)\n",
    "    print(name + ' F1-Score: {:.5}'.format(f1))"
   ]
  },
  {
   "cell_type": "code",
   "execution_count": 31,
   "id": "2db42c03",
   "metadata": {
    "execution": {
     "iopub.execute_input": "2021-09-30T22:22:01.435640Z",
     "iopub.status.busy": "2021-09-30T22:22:01.433460Z",
     "iopub.status.idle": "2021-09-30T22:22:01.733396Z",
     "shell.execute_reply": "2021-09-30T22:22:01.732742Z",
     "shell.execute_reply.started": "2021-09-30T22:02:25.089064Z"
    },
    "papermill": {
     "duration": 0.375065,
     "end_time": "2021-09-30T22:22:01.733711",
     "exception": false,
     "start_time": "2021-09-30T22:22:01.358646",
     "status": "completed"
    },
    "tags": []
   },
   "outputs": [
    {
     "data": {
      "image/png": "[encoded data removed]",
      "text/plain": [
       "<Figure size 432x288 with 2 Axes>"
      ]
     },
     "metadata": {
      "needs_background": "light"
     },
     "output_type": "display_data"
    }
   ],
   "source": [
    "#Confusion Matrix of Best Peforming Model\n",
    "model = LogisticRegression()\n",
    "model.fit(X_train, y_train)\n",
    "yhat = model.predict(X_test)\n",
    "plot_confusion_matrix(y_test, yhat)"
   ]
  },
  {
   "cell_type": "markdown",
   "id": "390c64de",
   "metadata": {
    "papermill": {
     "duration": 0.063918,
     "end_time": "2021-09-30T22:22:01.861267",
     "exception": false,
     "start_time": "2021-09-30T22:22:01.797349",
     "status": "completed"
    },
    "tags": []
   },
   "source": [
    "# Methamphetamine"
   ]
  },
  {
   "cell_type": "markdown",
   "id": "46959f2b",
   "metadata": {
    "papermill": {
     "duration": 0.065025,
     "end_time": "2021-09-30T22:22:01.992084",
     "exception": false,
     "start_time": "2021-09-30T22:22:01.927059",
     "status": "completed"
    },
    "tags": []
   },
   "source": [
    "## Model Training"
   ]
  },
  {
   "cell_type": "code",
   "execution_count": 32,
   "id": "e91b857c",
   "metadata": {
    "execution": {
     "iopub.execute_input": "2021-09-30T22:22:02.132181Z",
     "iopub.status.busy": "2021-09-30T22:22:02.131503Z",
     "iopub.status.idle": "2021-09-30T22:22:02.139957Z",
     "shell.execute_reply": "2021-09-30T22:22:02.139438Z",
     "shell.execute_reply.started": "2021-09-30T22:02:25.386553Z"
    },
    "papermill": {
     "duration": 0.083858,
     "end_time": "2021-09-30T22:22:02.140148",
     "exception": false,
     "start_time": "2021-09-30T22:22:02.056290",
     "status": "completed"
    },
    "tags": []
   },
   "outputs": [],
   "source": [
    "X_train, X_test, y_train, y_test = preprocessing_inputs(meth_df, 'Meth_User')"
   ]
  },
  {
   "cell_type": "code",
   "execution_count": 33,
   "id": "16d80427",
   "metadata": {
    "execution": {
     "iopub.execute_input": "2021-09-30T22:22:02.275769Z",
     "iopub.status.busy": "2021-09-30T22:22:02.275086Z",
     "iopub.status.idle": "2021-09-30T22:22:02.737983Z",
     "shell.execute_reply": "2021-09-30T22:22:02.737299Z",
     "shell.execute_reply.started": "2021-09-30T22:02:25.406836Z"
    },
    "papermill": {
     "duration": 0.534152,
     "end_time": "2021-09-30T22:22:02.738130",
     "exception": false,
     "start_time": "2021-09-30T22:22:02.203978",
     "status": "completed"
    },
    "tags": []
   },
   "outputs": [
    {
     "name": "stdout",
     "output_type": "stream",
     "text": [
      "     Logisitc Regression trained.\n",
      "        Ridge Classifier trained.\n",
      " Support Vector Machines trained.\n",
      "Random Forest Classifier trained.\n"
     ]
    }
   ],
   "source": [
    "for name, model in models.items():\n",
    "    model.fit(X_train, y_train)\n",
    "    print(name + ' trained.')"
   ]
  },
  {
   "cell_type": "markdown",
   "id": "a99c2755",
   "metadata": {
    "papermill": {
     "duration": 0.089381,
     "end_time": "2021-09-30T22:22:02.892530",
     "exception": false,
     "start_time": "2021-09-30T22:22:02.803149",
     "status": "completed"
    },
    "tags": []
   },
   "source": [
    "## Model Results"
   ]
  },
  {
   "cell_type": "code",
   "execution_count": 34,
   "id": "4a7632a5",
   "metadata": {
    "execution": {
     "iopub.execute_input": "2021-09-30T22:22:03.035554Z",
     "iopub.status.busy": "2021-09-30T22:22:03.033378Z",
     "iopub.status.idle": "2021-09-30T22:22:03.114950Z",
     "shell.execute_reply": "2021-09-30T22:22:03.114321Z",
     "shell.execute_reply.started": "2021-09-30T22:02:25.839531Z"
    },
    "papermill": {
     "duration": 0.157967,
     "end_time": "2021-09-30T22:22:03.115126",
     "exception": false,
     "start_time": "2021-09-30T22:22:02.957159",
     "status": "completed"
    },
    "tags": []
   },
   "outputs": [
    {
     "name": "stdout",
     "output_type": "stream",
     "text": [
      "                  ACCURACY\n",
      "     Logisitc Regression Accuracy: 84.84%\n",
      "        Ridge Classifier Accuracy: 85.37%\n",
      " Support Vector Machines Accuracy: 84.57%\n",
      "Random Forest Classifier Accuracy: 85.64%\n",
      "---------------------------------------------\n",
      "                  F1 SCORES\n",
      "     Logisitc Regression F1-Score: 0.6014\n",
      "        Ridge Classifier F1-Score: 0.60432\n",
      " Support Vector Machines F1-Score: 0.56716\n",
      "Random Forest Classifier F1-Score: 0.625\n"
     ]
    }
   ],
   "source": [
    "print('                  ACCURACY')\n",
    "for name, model in models.items():\n",
    "    yhat = model.predict(X_test)\n",
    "    acc = accuracy_score(y_test, yhat)\n",
    "    print(name + ' Accuracy: {:.2%}'.format(acc))\n",
    "print('---------------------------------------------')\n",
    "print('                  F1 SCORES')\n",
    "for name, model in models.items():\n",
    "    yhat = model.predict(X_test)\n",
    "    f1 = f1_score(y_test, yhat, pos_label=1)\n",
    "    print(name + ' F1-Score: {:.5}'.format(f1))"
   ]
  },
  {
   "cell_type": "code",
   "execution_count": 35,
   "id": "9a47ef29",
   "metadata": {
    "execution": {
     "iopub.execute_input": "2021-09-30T22:22:03.291675Z",
     "iopub.status.busy": "2021-09-30T22:22:03.255008Z",
     "iopub.status.idle": "2021-09-30T22:22:03.794616Z",
     "shell.execute_reply": "2021-09-30T22:22:03.794079Z",
     "shell.execute_reply.started": "2021-09-30T22:02:25.930041Z"
    },
    "papermill": {
     "duration": 0.613732,
     "end_time": "2021-09-30T22:22:03.794777",
     "exception": false,
     "start_time": "2021-09-30T22:22:03.181045",
     "status": "completed"
    },
    "tags": []
   },
   "outputs": [
    {
     "data": {
      "image/png": "[encoded data removed]",
      "text/plain": [
       "<Figure size 432x288 with 2 Axes>"
      ]
     },
     "metadata": {
      "needs_background": "light"
     },
     "output_type": "display_data"
    }
   ],
   "source": [
    "model = RandomForestClassifier()\n",
    "model.fit(X_train, y_train)\n",
    "yhat = model.predict(X_test)\n",
    "plot_confusion_matrix(y_test, yhat)"
   ]
  },
  {
   "cell_type": "markdown",
   "id": "e4090572",
   "metadata": {
    "papermill": {
     "duration": 0.066841,
     "end_time": "2021-09-30T22:22:03.928407",
     "exception": false,
     "start_time": "2021-09-30T22:22:03.861566",
     "status": "completed"
    },
    "tags": []
   },
   "source": [
    "# Heroin"
   ]
  },
  {
   "cell_type": "markdown",
   "id": "4ecea68b",
   "metadata": {
    "papermill": {
     "duration": 0.067255,
     "end_time": "2021-09-30T22:22:04.064422",
     "exception": false,
     "start_time": "2021-09-30T22:22:03.997167",
     "status": "completed"
    },
    "tags": []
   },
   "source": [
    "## Model Training"
   ]
  },
  {
   "cell_type": "code",
   "execution_count": 36,
   "id": "e9032cdb",
   "metadata": {
    "execution": {
     "iopub.execute_input": "2021-09-30T22:22:04.207931Z",
     "iopub.status.busy": "2021-09-30T22:22:04.204721Z",
     "iopub.status.idle": "2021-09-30T22:22:04.219399Z",
     "shell.execute_reply": "2021-09-30T22:22:04.218830Z",
     "shell.execute_reply.started": "2021-09-30T22:02:26.477794Z"
    },
    "papermill": {
     "duration": 0.088136,
     "end_time": "2021-09-30T22:22:04.219566",
     "exception": false,
     "start_time": "2021-09-30T22:22:04.131430",
     "status": "completed"
    },
    "tags": []
   },
   "outputs": [],
   "source": [
    "X_train, X_test, y_train, y_test = preprocessing_inputs(heroin_df, 'Heroin_User')"
   ]
  },
  {
   "cell_type": "code",
   "execution_count": 37,
   "id": "ce16e69c",
   "metadata": {
    "execution": {
     "iopub.execute_input": "2021-09-30T22:22:04.373717Z",
     "iopub.status.busy": "2021-09-30T22:22:04.372484Z",
     "iopub.status.idle": "2021-09-30T22:22:04.867343Z",
     "shell.execute_reply": "2021-09-30T22:22:04.867818Z",
     "shell.execute_reply.started": "2021-09-30T22:02:26.495211Z"
    },
    "papermill": {
     "duration": 0.581912,
     "end_time": "2021-09-30T22:22:04.868051",
     "exception": false,
     "start_time": "2021-09-30T22:22:04.286139",
     "status": "completed"
    },
    "tags": []
   },
   "outputs": [
    {
     "name": "stdout",
     "output_type": "stream",
     "text": [
      "     Logisitc Regression trained.\n",
      "        Ridge Classifier trained.\n",
      " Support Vector Machines trained.\n",
      "Random Forest Classifier trained.\n"
     ]
    }
   ],
   "source": [
    "for name, model in models.items():\n",
    "    model.fit(X_train, y_train)\n",
    "    print(name + ' trained.')"
   ]
  },
  {
   "cell_type": "markdown",
   "id": "282faca8",
   "metadata": {
    "papermill": {
     "duration": 0.068821,
     "end_time": "2021-09-30T22:22:05.006499",
     "exception": false,
     "start_time": "2021-09-30T22:22:04.937678",
     "status": "completed"
    },
    "tags": []
   },
   "source": [
    "## Model Results"
   ]
  },
  {
   "cell_type": "code",
   "execution_count": 38,
   "id": "152a1632",
   "metadata": {
    "execution": {
     "iopub.execute_input": "2021-09-30T22:22:05.157127Z",
     "iopub.status.busy": "2021-09-30T22:22:05.152015Z",
     "iopub.status.idle": "2021-09-30T22:22:05.227889Z",
     "shell.execute_reply": "2021-09-30T22:22:05.226936Z",
     "shell.execute_reply.started": "2021-09-30T22:02:26.858108Z"
    },
    "papermill": {
     "duration": 0.15176,
     "end_time": "2021-09-30T22:22:05.228121",
     "exception": false,
     "start_time": "2021-09-30T22:22:05.076361",
     "status": "completed"
    },
    "tags": []
   },
   "outputs": [
    {
     "name": "stdout",
     "output_type": "stream",
     "text": [
      "                  ACCURACY\n",
      "     Logisitc Regression Accuracy: 90.96%\n",
      "        Ridge Classifier Accuracy: 90.16%\n",
      " Support Vector Machines Accuracy: 91.76%\n",
      "Random Forest Classifier Accuracy: 90.96%\n",
      "---------------------------------------------\n",
      "                  F1 SCORES\n",
      "     Logisitc Regression F1-Score: 0.54054\n",
      "        Ridge Classifier F1-Score: 0.46377\n",
      " Support Vector Machines F1-Score: 0.56338\n",
      "Random Forest Classifier F1-Score: 0.54054\n"
     ]
    }
   ],
   "source": [
    "print('                  ACCURACY')\n",
    "for name, model in models.items():\n",
    "    yhat = model.predict(X_test)\n",
    "    acc = accuracy_score(y_test, yhat)\n",
    "    print(name + ' Accuracy: {:.2%}'.format(acc))\n",
    "print('---------------------------------------------')\n",
    "print('                  F1 SCORES')\n",
    "for name, model in models.items():\n",
    "    yhat = model.predict(X_test)\n",
    "    f1 = f1_score(y_test, yhat, pos_label=1)\n",
    "    print(name + ' F1-Score: {:.5}'.format(f1))"
   ]
  },
  {
   "cell_type": "code",
   "execution_count": 39,
   "id": "fd09d485",
   "metadata": {
    "execution": {
     "iopub.execute_input": "2021-09-30T22:22:05.374940Z",
     "iopub.status.busy": "2021-09-30T22:22:05.373775Z",
     "iopub.status.idle": "2021-09-30T22:22:05.694193Z",
     "shell.execute_reply": "2021-09-30T22:22:05.693651Z",
     "shell.execute_reply.started": "2021-09-30T22:02:26.937727Z"
    },
    "papermill": {
     "duration": 0.396528,
     "end_time": "2021-09-30T22:22:05.694368",
     "exception": false,
     "start_time": "2021-09-30T22:22:05.297840",
     "status": "completed"
    },
    "tags": []
   },
   "outputs": [
    {
     "data": {
      "image/png": "[encoded data removed]",
      "text/plain": [
       "<Figure size 432x288 with 2 Axes>"
      ]
     },
     "metadata": {
      "needs_background": "light"
     },
     "output_type": "display_data"
    }
   ],
   "source": [
    "model = SVC()\n",
    "model.fit(X_train, y_train)\n",
    "yhat = model.predict(X_test)\n",
    "plot_confusion_matrix(y_test, yhat)"
   ]
  },
  {
   "cell_type": "markdown",
   "id": "db8708ac",
   "metadata": {
    "papermill": {
     "duration": 0.068871,
     "end_time": "2021-09-30T22:22:05.831633",
     "exception": false,
     "start_time": "2021-09-30T22:22:05.762762",
     "status": "completed"
    },
    "tags": []
   },
   "source": [
    "# Nicotine"
   ]
  },
  {
   "cell_type": "markdown",
   "id": "40cd8a62",
   "metadata": {
    "papermill": {
     "duration": 0.068355,
     "end_time": "2021-09-30T22:22:05.968746",
     "exception": false,
     "start_time": "2021-09-30T22:22:05.900391",
     "status": "completed"
    },
    "tags": []
   },
   "source": [
    "## Model Training"
   ]
  },
  {
   "cell_type": "code",
   "execution_count": 40,
   "id": "d2081774",
   "metadata": {
    "execution": {
     "iopub.execute_input": "2021-09-30T22:22:06.112613Z",
     "iopub.status.busy": "2021-09-30T22:22:06.111949Z",
     "iopub.status.idle": "2021-09-30T22:22:06.125612Z",
     "shell.execute_reply": "2021-09-30T22:22:06.125062Z",
     "shell.execute_reply.started": "2021-09-30T22:02:27.267076Z"
    },
    "papermill": {
     "duration": 0.087282,
     "end_time": "2021-09-30T22:22:06.125754",
     "exception": false,
     "start_time": "2021-09-30T22:22:06.038472",
     "status": "completed"
    },
    "tags": []
   },
   "outputs": [],
   "source": [
    "X_train, X_test, y_train, y_test = preprocessing_inputs(nic_df, 'Nicotine_User')"
   ]
  },
  {
   "cell_type": "code",
   "execution_count": 41,
   "id": "32786056",
   "metadata": {
    "execution": {
     "iopub.execute_input": "2021-09-30T22:22:06.270328Z",
     "iopub.status.busy": "2021-09-30T22:22:06.266881Z",
     "iopub.status.idle": "2021-09-30T22:22:06.806073Z",
     "shell.execute_reply": "2021-09-30T22:22:06.806558Z",
     "shell.execute_reply.started": "2021-09-30T22:02:27.286143Z"
    },
    "papermill": {
     "duration": 0.61399,
     "end_time": "2021-09-30T22:22:06.806778",
     "exception": false,
     "start_time": "2021-09-30T22:22:06.192788",
     "status": "completed"
    },
    "tags": []
   },
   "outputs": [
    {
     "name": "stdout",
     "output_type": "stream",
     "text": [
      "     Logisitc Regression trained.\n",
      "        Ridge Classifier trained.\n",
      " Support Vector Machines trained.\n",
      "Random Forest Classifier trained.\n"
     ]
    }
   ],
   "source": [
    "for name, model in models.items():\n",
    "    model.fit(X_train, y_train)\n",
    "    print(name + ' trained.')"
   ]
  },
  {
   "cell_type": "markdown",
   "id": "17815d9e",
   "metadata": {
    "papermill": {
     "duration": 0.070354,
     "end_time": "2021-09-30T22:22:06.947184",
     "exception": false,
     "start_time": "2021-09-30T22:22:06.876830",
     "status": "completed"
    },
    "tags": []
   },
   "source": [
    "## Model Results"
   ]
  },
  {
   "cell_type": "code",
   "execution_count": 42,
   "id": "32bc70ac",
   "metadata": {
    "execution": {
     "iopub.execute_input": "2021-09-30T22:22:07.098157Z",
     "iopub.status.busy": "2021-09-30T22:22:07.097465Z",
     "iopub.status.idle": "2021-09-30T22:22:07.195706Z",
     "shell.execute_reply": "2021-09-30T22:22:07.194724Z",
     "shell.execute_reply.started": "2021-09-30T22:02:27.757492Z"
    },
    "papermill": {
     "duration": 0.178274,
     "end_time": "2021-09-30T22:22:07.195862",
     "exception": false,
     "start_time": "2021-09-30T22:22:07.017588",
     "status": "completed"
    },
    "tags": []
   },
   "outputs": [
    {
     "name": "stdout",
     "output_type": "stream",
     "text": [
      "                  ACCURACY\n",
      "     Logisitc Regression Accuracy: 78.46%\n",
      "        Ridge Classifier Accuracy: 78.46%\n",
      " Support Vector Machines Accuracy: 79.79%\n",
      "Random Forest Classifier Accuracy: 79.52%\n",
      "---------------------------------------------\n",
      "                  F1 SCORES\n",
      "     Logisitc Regression F1-Score: 0.83636\n",
      "        Ridge Classifier F1-Score: 0.83636\n",
      " Support Vector Machines F1-Score: 0.84861\n",
      "Random Forest Classifier F1-Score: 0.85049\n"
     ]
    }
   ],
   "source": [
    "print('                  ACCURACY')\n",
    "for name, model in models.items():\n",
    "    yhat = model.predict(X_test)\n",
    "    acc = accuracy_score(y_test, yhat)\n",
    "    print(name + ' Accuracy: {:.2%}'.format(acc))\n",
    "print('---------------------------------------------')\n",
    "print('                  F1 SCORES')\n",
    "for name, model in models.items():\n",
    "    yhat = model.predict(X_test)\n",
    "    f1 = f1_score(y_test, yhat, pos_label=1)\n",
    "    print(name + ' F1-Score: {:.5}'.format(f1))"
   ]
  },
  {
   "cell_type": "code",
   "execution_count": 43,
   "id": "7320cdb4",
   "metadata": {
    "execution": {
     "iopub.execute_input": "2021-09-30T22:22:07.336211Z",
     "iopub.status.busy": "2021-09-30T22:22:07.335557Z",
     "iopub.status.idle": "2021-09-30T22:22:07.959863Z",
     "shell.execute_reply": "2021-09-30T22:22:07.959132Z",
     "shell.execute_reply.started": "2021-09-30T22:02:27.861603Z"
    },
    "papermill": {
     "duration": 0.695928,
     "end_time": "2021-09-30T22:22:07.960067",
     "exception": false,
     "start_time": "2021-09-30T22:22:07.264139",
     "status": "completed"
    },
    "tags": []
   },
   "outputs": [
    {
     "data": {
      "image/png": "[encoded data removed]",
      "text/plain": [
       "<Figure size 432x288 with 2 Axes>"
      ]
     },
     "metadata": {
      "needs_background": "light"
     },
     "output_type": "display_data"
    }
   ],
   "source": [
    "model = SVC()\n",
    "model.fit(X_train, y_train)\n",
    "yhat = model.predict(X_test)\n",
    "plot_confusion_matrix(y_test, yhat)"
   ]
  },
  {
   "cell_type": "markdown",
   "id": "7a2ed799",
   "metadata": {
    "papermill": {
     "duration": 0.070665,
     "end_time": "2021-09-30T22:22:08.101089",
     "exception": false,
     "start_time": "2021-09-30T22:22:08.030424",
     "status": "completed"
    },
    "tags": []
   },
   "source": [
    "# Conclusions\n",
    "* Overall we see that our Logistic Regression, Random Forest Classifiers, and SVM's performed the best. The models performed best when classifying Cocaine and Nicotine. Although, this is probably due to the much larger sample size from these drugs compared to Heroin.\n",
    "* For further analysis you can check out my full EDA notebook [here](https://www.kaggle.com/obeykhadija/drug-consumptions-eda)"
   ]
  }
 ],
 "metadata": {
  "kernelspec": {
   "display_name": "Python 3",
   "language": "python",
   "name": "python3"
  },
  "language_info": {
   "codemirror_mode": {
    "name": "ipython",
    "version": 3
   },
   "file_extension": ".py",
   "mimetype": "text/x-python",
   "name": "python",
   "nbconvert_exporter": "python",
   "pygments_lexer": "ipython3",
   "version": "3.7.10"
  },
  "papermill": {
   "default_parameters": {},
   "duration": 29.033086,
   "end_time": "2021-09-30T22:22:08.982572",
   "environment_variables": {},
   "exception": null,
   "input_path": "__notebook__.ipynb",
   "output_path": "__notebook__.ipynb",
   "parameters": {},
   "start_time": "2021-09-30T22:21:39.949486",
   "version": "2.3.3"
  }
 },
 "nbformat": 4,
 "nbformat_minor": 5
}
